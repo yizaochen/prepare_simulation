{
 "cells": [
  {
   "cell_type": "code",
   "execution_count": 7,
   "metadata": {},
   "outputs": [],
   "source": [
    "from os import path, mkdir, system\n",
    "prep_folder = '/home/yizaochen/codes/dna_rna/prepare_simulation'\n",
    "fdhelix = '/home/yizaochen/codes/prepare_simulation/build_na/fd_helix'"
   ]
  },
  {
   "cell_type": "markdown",
   "metadata": {},
   "source": [
    "### Part 0: Give a sequence"
   ]
  },
  {
   "cell_type": "code",
   "execution_count": 11,
   "metadata": {},
   "outputs": [
    {
     "data": {
      "text/plain": [
       "'\\narna         Right Handed A-RNA (Arnott)\\naprna        Right Handed A-PRIME RNA (Arnott)\\nlbdna        Right Handed B-DNA (Langridge)\\nabdna        Right Handed B-DNA (Arnott)\\nsbdna        Left  Handed B-DNA (Sasisekharan)\\nadna         Right Handed A-DNA (Arnott)\\n'"
      ]
     },
     "execution_count": 11,
     "metadata": {},
     "output_type": "execute_result"
    }
   ],
   "source": [
    "# Helix Type\n",
    "\"\"\"\n",
    "arna         Right Handed A-RNA (Arnott)\n",
    "aprna        Right Handed A-PRIME RNA (Arnott)\n",
    "lbdna        Right Handed B-DNA (Langridge)\n",
    "abdna        Right Handed B-DNA (Arnott)\n",
    "sbdna        Left  Handed B-DNA (Sasisekharan)\n",
    "adna         Right Handed A-DNA (Arnott)\n",
    "\"\"\""
   ]
  },
  {
   "cell_type": "code",
   "execution_count": 8,
   "metadata": {},
   "outputs": [],
   "source": [
    "seq_input = 'CGCAATATAATATAATATGCG'   \n",
    "helix_type = 'abdna'"
   ]
  },
  {
   "cell_type": "code",
   "execution_count": 9,
   "metadata": {},
   "outputs": [
    {
     "name": "stdout",
     "output_type": "stream",
     "text": [
      "mkdir /home/yizaochen/codes/dna_rna/prepare_simulation/tat_2_21mer\n",
      "mkdir /home/yizaochen/codes/dna_rna/prepare_simulation/tat_2_21mer/bdna+bdna\n"
     ]
    }
   ],
   "source": [
    "host = 'tat_2_21mer'\n",
    "type_na = 'bdna+bdna'\n",
    "\n",
    "hostfolder = path.join(prep_folder, host)\n",
    "if not path.exists(hostfolder):\n",
    "    mkdir(hostfolder)\n",
    "    print(f'mkdir {hostfolder}')\n",
    "    \n",
    "nafolder = path.join(hostfolder, type_na)\n",
    "if not path.exists(nafolder):\n",
    "    mkdir(nafolder)\n",
    "    print(f'mkdir {nafolder}')"
   ]
  },
  {
   "cell_type": "code",
   "execution_count": 10,
   "metadata": {},
   "outputs": [
    {
     "name": "stdout",
     "output_type": "stream",
     "text": [
      "/home/yizaochen/codes/prepare_simulation/build_na/fd_helix abdna CGCAATATAATATAATATGCG > /home/yizaochen/codes/dna_rna/prepare_simulation/tat_2_21mer/bdna+bdna/bdna+bdna.pdb\n",
      "Check by...\n",
      "vmd -pdb /home/yizaochen/codes/dna_rna/prepare_simulation/tat_2_21mer/bdna+bdna/bdna+bdna.pdb\n"
     ]
    }
   ],
   "source": [
    "output = path.join(nafolder, f'{type_na}.pdb')\n",
    "cmd = f'{fdhelix} {helix_type} {seq_input} > {output}'\n",
    "system(cmd)\n",
    "print(cmd)\n",
    "\n",
    "print(f'Check by...\\nvmd -pdb {output}')"
   ]
  },
  {
   "cell_type": "markdown",
   "metadata": {},
   "source": [
    "### Addtional Part 1: Compile fd_helix.c"
   ]
  },
  {
   "cell_type": "code",
   "execution_count": 1,
   "metadata": {},
   "outputs": [
    {
     "name": "stdout",
     "output_type": "stream",
     "text": [
      "gcc -o fd_helix fd_helix.c -lm\n"
     ]
    }
   ],
   "source": [
    "cmd = 'gcc -o fd_helix fd_helix.c -lm'\n",
    "print(cmd)"
   ]
  },
  {
   "cell_type": "code",
   "execution_count": null,
   "metadata": {},
   "outputs": [],
   "source": []
  }
 ],
 "metadata": {
  "kernelspec": {
   "display_name": "Python 3",
   "language": "python",
   "name": "python3"
  },
  "language_info": {
   "codemirror_mode": {
    "name": "ipython",
    "version": 3
   },
   "file_extension": ".py",
   "mimetype": "text/x-python",
   "name": "python",
   "nbconvert_exporter": "python",
   "pygments_lexer": "ipython3",
   "version": "3.8.5"
  }
 },
 "nbformat": 4,
 "nbformat_minor": 4
}
