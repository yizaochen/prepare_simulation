{
 "cells": [
  {
   "cell_type": "code",
   "execution_count": 1,
   "metadata": {},
   "outputs": [],
   "source": [
    "from os import path"
   ]
  },
  {
   "cell_type": "markdown",
   "metadata": {},
   "source": [
    "### Part 1: Go to external hard drive to mkdir"
   ]
  },
  {
   "cell_type": "code",
   "execution_count": 2,
   "metadata": {},
   "outputs": [
    {
     "name": "stdout",
     "output_type": "stream",
     "text": [
      "cd /media/toshiba_4t\n",
      "mkdir /media/toshiba_4t/ionic_effect\n"
     ]
    }
   ],
   "source": [
    "extermal_hd = '/media/toshiba_4t'\n",
    "target_folder = path.join(extermal_hd, 'ionic_effect')\n",
    "print(f'cd {extermal_hd}')\n",
    "print(f'mkdir {target_folder}')"
   ]
  },
  {
   "cell_type": "markdown",
   "metadata": {},
   "source": [
    "### Part 2: Rsync command"
   ]
  },
  {
   "cell_type": "code",
   "execution_count": 4,
   "metadata": {},
   "outputs": [],
   "source": [
    "old_target = '/home/yizaochen/simulation/500mM' # Ad hoc"
   ]
  },
  {
   "cell_type": "code",
   "execution_count": 5,
   "metadata": {},
   "outputs": [
    {
     "name": "stdout",
     "output_type": "stream",
     "text": [
      "rsync -avzh yizaochen@140.113.120.133:/home/yizaochen/simulation/500mM /media/toshiba_4t/ionic_effect/\n"
     ]
    }
   ],
   "source": [
    "user = 'yizaochen'\n",
    "server_ip = '140.113.120.133'\n",
    "old = f'{user}@{server_ip}:{old_target}'\n",
    "cmd = f'rsynbc -avzh {old} {target_folder}/'\n",
    "print(cmd)"
   ]
  },
  {
   "cell_type": "markdown",
   "metadata": {},
   "source": [
    "### Part 3: Check size to ensure the success of backup"
   ]
  },
  {
   "cell_type": "code",
   "execution_count": 8,
   "metadata": {},
   "outputs": [
    {
     "name": "stdout",
     "output_type": "stream",
     "text": [
      "cd /home/yizaochen/simulation/500mM\n",
      "du -h\n"
     ]
    }
   ],
   "source": [
    "# Server-end\n",
    "print(f'cd {old_target}')\n",
    "print(f'du -h')"
   ]
  },
  {
   "cell_type": "code",
   "execution_count": 9,
   "metadata": {},
   "outputs": [
    {
     "name": "stdout",
     "output_type": "stream",
     "text": [
      "cd /media/toshiba_4t/ionic_effect\n",
      "du -h\n"
     ]
    }
   ],
   "source": [
    "# Local-end\n",
    "print(f'cd {target_folder}')\n",
    "print(f'du -h')"
   ]
  },
  {
   "cell_type": "markdown",
   "metadata": {},
   "source": [
    "### Part 4: Go to allostery to rm"
   ]
  },
  {
   "cell_type": "code",
   "execution_count": 6,
   "metadata": {},
   "outputs": [
    {
     "name": "stdout",
     "output_type": "stream",
     "text": [
      "rm -r /home/yizaochen/simulation/500mM\n"
     ]
    }
   ],
   "source": [
    "print(f'rm -r {old_target}')"
   ]
  },
  {
   "cell_type": "markdown",
   "metadata": {},
   "source": [
    "### Part 5: Go to Google drive to edit simulation_table"
   ]
  },
  {
   "cell_type": "code",
   "execution_count": null,
   "metadata": {},
   "outputs": [],
   "source": []
  }
 ],
 "metadata": {
  "kernelspec": {
   "display_name": "Python 3",
   "language": "python",
   "name": "python3"
  },
  "language_info": {
   "codemirror_mode": {
    "name": "ipython",
    "version": 3
   },
   "file_extension": ".py",
   "mimetype": "text/x-python",
   "name": "python",
   "nbconvert_exporter": "python",
   "pygments_lexer": "ipython3",
   "version": "3.8.5"
  }
 },
 "nbformat": 4,
 "nbformat_minor": 4
}
