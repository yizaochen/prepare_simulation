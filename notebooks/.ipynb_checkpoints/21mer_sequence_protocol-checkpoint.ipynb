{
 "cells": [
  {
   "cell_type": "code",
   "execution_count": 2,
   "metadata": {},
   "outputs": [],
   "source": [
    "from os import path\n",
    "hosts = ['a_tract_21mer', 'g_tract_21mer', \n",
    "         'atat_21mer', 'gcgc_21mer', \n",
    "         'ctct_21mer', 'tgtg_21mer']"
   ]
  },
  {
   "cell_type": "markdown",
   "metadata": {},
   "source": [
    "### Part 1: Set Server Folder"
   ]
  },
  {
   "cell_type": "code",
   "execution_count": 5,
   "metadata": {},
   "outputs": [
    {
     "name": "stdout",
     "output_type": "stream",
     "text": [
      "Server is: allostery\n"
     ]
    }
   ],
   "source": [
    "server = 'allostery'\n",
    "rootfolder = '/home/yizaochen/simulation'\n",
    "\n",
    "print(f'Server is: {server}')"
   ]
  },
  {
   "cell_type": "markdown",
   "metadata": {},
   "source": [
    "### Part 2: cd to mdp folder"
   ]
  },
  {
   "cell_type": "code",
   "execution_count": 7,
   "metadata": {},
   "outputs": [
    {
     "name": "stdout",
     "output_type": "stream",
     "text": [
      "cd /home/yizaochen/simulation/a_tract_21mer/bdna+bdna/mdp\n"
     ]
    }
   ],
   "source": [
    "host = 'a_tract_21mer'\n",
    "type_na = 'bdna+bdna'\n",
    "na_folder = path.join(rootfolder, host, type_na)\n",
    "mdp_folder = path.join(na_folder, 'mdp')\n",
    "writemd_py = path.join(mdp_folder, 'writemd.py')\n",
    "print(f'cd {mdp_folder}')"
   ]
  },
  {
   "cell_type": "markdown",
   "metadata": {},
   "source": [
    "### Part 3: Modify writemd.py"
   ]
  },
  {
   "cell_type": "code",
   "execution_count": 9,
   "metadata": {},
   "outputs": [
    {
     "name": "stdout",
     "output_type": "stream",
     "text": [
      "vim /home/yizaochen/simulation/a_tract_21mer/bdna+bdna/mdp/writemd.py\n",
      "change range in .py file\n"
     ]
    }
   ],
   "source": [
    "print(f'vim {writemd_py}')\n",
    "print('change range in .py file')"
   ]
  },
  {
   "cell_type": "code",
   "execution_count": 10,
   "metadata": {},
   "outputs": [
    {
     "name": "stdout",
     "output_type": "stream",
     "text": [
      "python writemd.py\n"
     ]
    }
   ],
   "source": [
    "print('python writemd.py')"
   ]
  },
  {
   "cell_type": "markdown",
   "metadata": {},
   "source": [
    "### Part 4: cd to nucleic acids folder"
   ]
  },
  {
   "cell_type": "code",
   "execution_count": 11,
   "metadata": {},
   "outputs": [
    {
     "name": "stdout",
     "output_type": "stream",
     "text": [
      "cd /home/yizaochen/simulation/a_tract_21mer/bdna+bdna\n"
     ]
    }
   ],
   "source": [
    "print(f'cd {na_folder}')"
   ]
  },
  {
   "cell_type": "markdown",
   "metadata": {},
   "source": [
    "### Part 5: Modify restart_simu.qsub"
   ]
  },
  {
   "cell_type": "code",
   "execution_count": 13,
   "metadata": {},
   "outputs": [
    {
     "name": "stdout",
     "output_type": "stream",
     "text": [
      "vim restart_simu.qsub\n",
      "change mdnum in .qsub file\n"
     ]
    }
   ],
   "source": [
    "restart_qsub = 'restart_simu.qsub'\n",
    "print(f'vim {restart_qsub}')\n",
    "print('change mdnum in .qsub file')"
   ]
  },
  {
   "cell_type": "markdown",
   "metadata": {},
   "source": [
    "### Part 6: Execute qsub"
   ]
  },
  {
   "cell_type": "code",
   "execution_count": 14,
   "metadata": {},
   "outputs": [
    {
     "name": "stdout",
     "output_type": "stream",
     "text": [
      "qsub restart_simu.qsub\n"
     ]
    }
   ],
   "source": [
    "print(f'qsub {restart_qsub}')"
   ]
  },
  {
   "cell_type": "markdown",
   "metadata": {},
   "source": [
    "### Part 7: Go to node to check"
   ]
  },
  {
   "cell_type": "code",
   "execution_count": 15,
   "metadata": {},
   "outputs": [
    {
     "name": "stdout",
     "output_type": "stream",
     "text": [
      "ssh node001\n"
     ]
    }
   ],
   "source": [
    "node_id = 1\n",
    "print(f'ssh node00{node_id}')"
   ]
  },
  {
   "cell_type": "code",
   "execution_count": 17,
   "metadata": {},
   "outputs": [
    {
     "name": "stdout",
     "output_type": "stream",
     "text": [
      "vim /scratch/yizaochen/a_tract_21mer/bdna+bdna/md10.log\n"
     ]
    }
   ],
   "source": [
    "mdnum = 10\n",
    "scratchfolder = path.join('/scratch/yizaochen', host, type_na)\n",
    "logfile = path.join(scratchfolder, f'md{mdnum}.log')\n",
    "print(f'vim {logfile}')"
   ]
  },
  {
   "cell_type": "code",
   "execution_count": null,
   "metadata": {},
   "outputs": [],
   "source": []
  }
 ],
 "metadata": {
  "kernelspec": {
   "display_name": "Python 3",
   "language": "python",
   "name": "python3"
  },
  "language_info": {
   "codemirror_mode": {
    "name": "ipython",
    "version": 3
   },
   "file_extension": ".py",
   "mimetype": "text/x-python",
   "name": "python",
   "nbconvert_exporter": "python",
   "pygments_lexer": "ipython3",
   "version": "3.8.5"
  }
 },
 "nbformat": 4,
 "nbformat_minor": 4
}
