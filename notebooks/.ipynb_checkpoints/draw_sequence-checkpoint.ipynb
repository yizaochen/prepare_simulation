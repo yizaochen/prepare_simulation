{
 "cells": [
  {
   "cell_type": "code",
   "execution_count": 1,
   "metadata": {},
   "outputs": [],
   "source": [
    "import matplotlib.pyplot as plt\n",
    "import matplotlib.patches as patches"
   ]
  },
  {
   "cell_type": "code",
   "execution_count": 2,
   "metadata": {},
   "outputs": [],
   "source": [
    "d_sequence = {'ttago': {'left': 'XTGAGGTAGTAGGTTGTATAGT',\n",
    "                        'right': 'XXTATACAACCTACTACCTCGT'},\n",
    "              'yizao_model': {'left': 'CGCGAATACTCGGAGCAATTCGCG',\n",
    "                              'right': 'CGCGAATTGCTCCGAGTATTCGCG'},\n",
    "              'pnas_16mer': {'left': 'GCGCAATGGAGTACGC',\n",
    "                       'right': 'GCGTACTCCATTGCGC'},\n",
    "              'yizao_model_1': {'left': 'XXTTCAGTCTTTATCTGTCTCTT',\n",
    "                                'right': 'XXGAGACAGATAAAGACTGAAAA'},\n",
    "              'a_tract_21mer': {'left': 'AAAAAAAAAAAAAAAAAAAAA',\n",
    "                                'right': 'TTTTTTTTTTTTTTTTTTTTT'},\n",
    "              'atat_21mer': {'left': 'ATATATATATATATATATATA',\n",
    "                                'right': 'TATATATATATATATATATAT'},\n",
    "              'g_tract_21mer': {'left': 'GGGGGGGGGGGGGGGGGGGGG',\n",
    "                                'right': 'CCCCCCCCCCCCCCCCCCCCC'},\n",
    "              'gcgc_21mer': {'left': 'GCGCGCGCGCGCGCGCGCGCG',\n",
    "                             'right': 'CGCGCGCGCGCGCGCGCGCGC'},\n",
    "              'tgtg_21mer': {'left': 'TGTGTGTGTGTGTGTGTGTGT',\n",
    "                             'right': 'ACACACACACACACACACACA'},\n",
    "              'ctct_21mer': {'left': 'CTCTCTCTCTCTCTCTCTCTC',\n",
    "                             'right': 'GAGAGAGAGAGAGAGAGAGAG'},\n",
    "             }"
   ]
  },
  {
   "cell_type": "code",
   "execution_count": 15,
   "metadata": {},
   "outputs": [],
   "source": [
    "host = 'yizao_model'\n",
    "\n",
    "left_seq = d_sequence[host]['left'] # 5' -> 3'\n",
    "right_seq = d_sequence[host]['right'] # 5' -> 3'\n",
    "\n",
    "# Decide number of rectangle of one side\n",
    "n_rec = len(left_seq)\n",
    "\n",
    "# Control Parameter\n",
    "remove_ax = True\n",
    "adding_arrow = True\n",
    "savefigure = False\n",
    "\n",
    "# Draw parameters\n",
    "y_incre = 0.5\n",
    "x_incre = 0.4\n",
    "width = 0.2\n",
    "height = 0.3\n",
    "ecolor = 'black'\n",
    "xtxt_incre = 0.05\n",
    "ytxt_incre = 0.05\n",
    "\n",
    "# Limits\n",
    "ymin = -13\n",
    "ymax = 0.5\n",
    "xmin = -0.1\n",
    "xmax = 0.7\n",
    "\n",
    "# 5' and 3' text\n",
    "prime_list = list()\n",
    "\n",
    "# The left side\n",
    "rects_left = list()\n",
    "x_left = 0\n",
    "y_left = 0\n",
    "for i in range(n_rec):\n",
    "    if i == 1:\n",
    "        prime_list.append((x_left-0.05, y_left+0.2, '5\\''))\n",
    "    xy = (x_left, y_left - i * y_incre)\n",
    "    rects_left.append(patches.Rectangle(xy, width, height, edgecolor=ecolor, fill=False))\n",
    "    y_left_last = y_left - i * y_incre\n",
    "prime_list.append((x_left-0.05, y_left_last, '3\\''))\n",
    "\n",
    "## Add Text\n",
    "resid = 1\n",
    "txt_left = list()\n",
    "for i, txt in enumerate(left_seq):\n",
    "    x_txt = x_left + xtxt_incre\n",
    "    y_txt = y_left - i * y_incre + ytxt_incre\n",
    "    if txt == 'X':\n",
    "        out_txt = f'    {txt}'\n",
    "    else:\n",
    "        out_txt = f'{resid}  {txt}'\n",
    "        resid += 1\n",
    "    txt_left.append((x_txt, y_txt, out_txt))\n",
    "    \n",
    "# The right side\n",
    "rects_right = list()\n",
    "x_right = x_left + x_incre\n",
    "y_right = 0\n",
    "for i in range(n_rec):\n",
    "    if i == 1:\n",
    "        prime_list.append((x_right+0.22, y_right+0.2, '3\\''))\n",
    "    xy = (x_right, y_right - i * y_incre)\n",
    "    rects_right.append(patches.Rectangle(xy, width, height, edgecolor=ecolor, fill=False))\n",
    "    y_right_last = y_right - i * y_incre\n",
    "prime_list.append((x_right+0.22, y_right_last, '5\\''))\n",
    "    \n",
    "## Add Text\n",
    "resid = 1\n",
    "txt_right = list()\n",
    "for i, txt in enumerate(right_seq):\n",
    "    x_txt = x_right + xtxt_incre\n",
    "    y_txt = y_right_last + i * y_incre + ytxt_incre\n",
    "    if txt == 'X':\n",
    "        out_txt = f'    {txt}'\n",
    "    else:\n",
    "        out_txt = f'{resid}  {txt}'\n",
    "        resid += 1\n",
    "    txt_right.append((x_txt, y_txt, out_txt))"
   ]
  },
  {
   "cell_type": "code",
   "execution_count": 16,
   "metadata": {},
   "outputs": [],
   "source": [
    "# Arrow Parameter\n",
    "start_id = 1 # By using left strand\n",
    "end_id = 23\n",
    "resid_list = list(range(start_id, end_id+1))\n",
    "\n",
    "x_arrow = x_left + (3 * width / 2)\n",
    "x_txt_arrow = x_left + (3 * width / 2) + 0.01\n",
    "dx = 0\n",
    "dy = -(height + 0.05)\n",
    "arrow_width = 0.01\n",
    "\n",
    "arrow_list = list()\n",
    "arrow_text_list = list()\n",
    "resid = 1\n",
    "l_id = 0\n",
    "for i, txt in enumerate(left_seq):\n",
    "    if txt == 'X':\n",
    "        continue\n",
    "    y_arrow = y_left - i * y_incre + height * 0.5\n",
    "    y_txt_arrow = y_left - i * y_incre + height * 0.5 - 0.2\n",
    "    if resid in resid_list:\n",
    "        arrow_list.append((x_arrow, y_arrow, dx, dy, arrow_width))\n",
    "        arrow_text_list.append((x_txt_arrow, y_txt_arrow, r'$l_{' + str(l_id) +'}$'))\n",
    "    resid += 1\n",
    "    l_id += 1"
   ]
  },
  {
   "cell_type": "code",
   "execution_count": 17,
   "metadata": {},
   "outputs": [
    {
     "data": {
      "image/png": "[encoded data removed]",
      "text/plain": [
       "<Figure size 432x1152 with 1 Axes>"
      ]
     },
     "metadata": {
      "needs_background": "light"
     },
     "output_type": "display_data"
    }
   ],
   "source": [
    "fig, ax = plt.subplots(ncols=1, nrows=1, figsize=(6,16))\n",
    "\n",
    "for rect in rects_left:\n",
    "    ax.add_patch(rect)\n",
    "    \n",
    "for rect in rects_right:\n",
    "    ax.add_patch(rect)\n",
    "\n",
    "for x_txt, y_txt, out_txt in txt_left:\n",
    "    ax.text(x_txt, y_txt, out_txt, fontsize=14)\n",
    "    \n",
    "for x_txt, y_txt, out_txt in txt_right:\n",
    "    ax.text(x_txt, y_txt, out_txt, fontsize=14)\n",
    "    \n",
    "ax.set_ylim(ymin, ymax)\n",
    "ax.set_xlim(xmin, xmax)\n",
    "\n",
    "# 5' and 3'\n",
    "for x, y, txt in prime_list:\n",
    "    ax.text(x, y, txt, fontsize=14)\n",
    "\n",
    "if adding_arrow:\n",
    "    for x_arrow, y_arrow, dx, dy, arrow_width in arrow_list:\n",
    "        ax.arrow(x_arrow, y_arrow, dx, dy, width=arrow_width)\n",
    "    for x_txt_arrow, y_txt_arrow, txt in arrow_text_list:\n",
    "        ax.text(x_txt_arrow, y_txt_arrow, txt, fontsize=12)\n",
    "\n",
    "if remove_ax:\n",
    "    ax.axis('off')\n",
    "    \n",
    "if savefigure:\n",
    "    fname = f'{host}_seq.svg'\n",
    "    plt.savefig(fname)\n",
    "    \n",
    "plt.show()"
   ]
  },
  {
   "cell_type": "code",
   "execution_count": 20,
   "metadata": {},
   "outputs": [],
   "source": [
    "# Process Sequence"
   ]
  },
  {
   "cell_type": "markdown",
   "metadata": {},
   "source": [
    "### Reverse Sequence"
   ]
  },
  {
   "cell_type": "code",
   "execution_count": 1,
   "metadata": {},
   "outputs": [
    {
     "name": "stdout",
     "output_type": "stream",
     "text": [
      "XXUAUACAACCUACUACCUCGU\n"
     ]
    }
   ],
   "source": [
    "seq_3to5 = 'UGCUCCAUCAUCCAACAUAUXX' # Input\n",
    "\n",
    "temp_list = [seq for seq in seq_3to5[::-1]]\n",
    "seq_5to3 = ''.join(temp_list)\n",
    "print(seq_5to3)"
   ]
  },
  {
   "cell_type": "markdown",
   "metadata": {},
   "source": [
    "### Get Complement Sequence"
   ]
  },
  {
   "cell_type": "code",
   "execution_count": 11,
   "metadata": {},
   "outputs": [
    {
     "name": "stdout",
     "output_type": "stream",
     "text": [
      "GAGAGAGAGAGAGAGAGAGAG\n"
     ]
    }
   ],
   "source": [
    "d_complement = {'A': 'T', 'C': 'G', 'T': 'A', 'G': 'C'}\n",
    "\n",
    "sense_5to3 = 'CTCTCTCTCTCTCTCTCTCTC'\n",
    "temp_list = [d_complement[seq] for seq in sense_5to3[::-1]]\n",
    "antisense_5to3 = ''.join(temp_list)\n",
    "print(antisense_5to3)"
   ]
  },
  {
   "cell_type": "code",
   "execution_count": null,
   "metadata": {},
   "outputs": [],
   "source": []
  }
 ],
 "metadata": {
  "kernelspec": {
   "display_name": "Python 3",
   "language": "python",
   "name": "python3"
  },
  "language_info": {
   "codemirror_mode": {
    "name": "ipython",
    "version": 3
   },
   "file_extension": ".py",
   "mimetype": "text/x-python",
   "name": "python",
   "nbconvert_exporter": "python",
   "pygments_lexer": "ipython3",
   "version": "3.8.5"
  }
 },
 "nbformat": 4,
 "nbformat_minor": 4
}
