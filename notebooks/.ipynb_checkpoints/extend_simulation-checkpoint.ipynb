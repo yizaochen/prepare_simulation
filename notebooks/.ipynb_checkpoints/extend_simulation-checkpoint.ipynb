{
 "cells": [
  {
   "cell_type": "code",
   "execution_count": 1,
   "metadata": {},
   "outputs": [],
   "source": [
    "from os import path, mkdir\n",
    "from shutil import copyfile\n",
    "from simulation import md_util"
   ]
  },
  {
   "cell_type": "markdown",
   "metadata": {},
   "source": [
    "### Part 1: Required file"
   ]
  },
  {
   "cell_type": "code",
   "execution_count": 2,
   "metadata": {},
   "outputs": [],
   "source": [
    "def check_exists(folder):\n",
    "    if not path.exists(folder):\n",
    "        print(f'mkdir {folder}')\n",
    "        mkdir(folder)\n",
    "    else:\n",
    "        print(f'{folder} exists!')"
   ]
  },
  {
   "cell_type": "code",
   "execution_count": 9,
   "metadata": {},
   "outputs": [
    {
     "name": "stdout",
     "output_type": "stream",
     "text": [
      "mkdir /home/yizaochen/simulation/yizao_model/bdna+bdna/extend_require_files\n",
      "mkdir /home/yizaochen/simulation/yizao_model/bdna+bdna/extend_require_files/mdp\n"
     ]
    }
   ],
   "source": [
    "old_rootfolder = '/media/yizaochen/Transcend/simulation/amber_dd_rr'\n",
    "new_rootfolder = '/home/yizaochen/simulation'\n",
    "\n",
    "host = 'yizao_model'\n",
    "type_na = 'bdna+bdna'\n",
    "\n",
    "old_folder = path.join(old_rootfolder, host, type_na)\n",
    "new_folder = path.join(new_rootfolder, host, type_na, 'extend_require_files')\n",
    "mdp_folder = path.join(new_rootfolder, host, type_na, 'extend_require_files', 'mdp')\n",
    "check_exists(new_folder)\n",
    "check_exists(mdp_folder)"
   ]
  },
  {
   "cell_type": "code",
   "execution_count": 11,
   "metadata": {},
   "outputs": [
    {
     "name": "stdout",
     "output_type": "stream",
     "text": [
      "cp /media/yizaochen/Transcend/simulation/amber_dd_rr/yizao_model/bdna+bdna/md9.gro /home/yizaochen/simulation/yizao_model/bdna+bdna/extend_require_files/md9.gro\n",
      "cp /media/yizaochen/Transcend/simulation/amber_dd_rr/yizao_model/bdna+bdna/md9.edr /home/yizaochen/simulation/yizao_model/bdna+bdna/extend_require_files/md9.edr\n",
      "cp /media/yizaochen/Transcend/simulation/amber_dd_rr/yizao_model/bdna+bdna/md9.cpt /home/yizaochen/simulation/yizao_model/bdna+bdna/extend_require_files/md9.cpt\n",
      "cp /media/yizaochen/Transcend/simulation/amber_dd_rr/yizao_model/bdna+bdna/topol_DNA_chain_A.itp /home/yizaochen/simulation/yizao_model/bdna+bdna/extend_require_files/topol_DNA_chain_A.itp\n",
      "cp /media/yizaochen/Transcend/simulation/amber_dd_rr/yizao_model/bdna+bdna/topol_DNA_chain_B.itp /home/yizaochen/simulation/yizao_model/bdna+bdna/extend_require_files/topol_DNA_chain_B.itp\n",
      "cp /media/yizaochen/Transcend/simulation/amber_dd_rr/yizao_model/bdna+bdna/ndx/bdna+bdna.ndx /home/yizaochen/simulation/yizao_model/bdna+bdna/extend_require_files/bdna+bdna.ndx\n"
     ]
    },
    {
     "data": {
      "text/plain": [
       "'/home/yizaochen/simulation/yizao_model/bdna+bdna/extend_require_files/bdna+bdna.ndx'"
      ]
     },
     "execution_count": 11,
     "metadata": {},
     "output_type": "execute_result"
    }
   ],
   "source": [
    "prev_mdnum = 9\n",
    "\n",
    "# gro\n",
    "filename = f'md{prev_mdnum}.gro'\n",
    "oldfile = path.join(old_folder, filename)\n",
    "newfile = path.join(new_folder, filename)\n",
    "cmd = f'cp {oldfile} {newfile}'\n",
    "print(cmd)\n",
    "copyfile(oldfile, newfile)\n",
    "\n",
    "# edr\n",
    "filename = f'md{prev_mdnum}.edr'\n",
    "oldfile = path.join(old_folder, filename)\n",
    "newfile = path.join(new_folder, filename)\n",
    "cmd = f'cp {oldfile} {newfile}'\n",
    "print(cmd)\n",
    "copyfile(oldfile, newfile)\n",
    "\n",
    "# cpt\n",
    "filename = f'md{prev_mdnum}.cpt'\n",
    "oldfile = path.join(old_folder, filename)\n",
    "newfile = path.join(new_folder, filename)\n",
    "cmd = f'cp {oldfile} {newfile}'\n",
    "print(cmd)\n",
    "copyfile(oldfile, newfile)\n",
    "\n",
    "# topol.top\n",
    "filename = 'topol.top'\n",
    "oldfile = path.join(old_folder, filename)\n",
    "newfile = path.join(new_folder, filename)\n",
    "cmd = f'cp {oldfile} {newfile}'\n",
    "#print(cmd)\n",
    "#copyfile(oldfile, newfile)\n",
    "\n",
    "# chain-A itp\n",
    "filename = 'topol_DNA_chain_A.itp'\n",
    "oldfile = path.join(old_folder, filename)\n",
    "newfile = path.join(new_folder, filename)\n",
    "cmd = f'cp {oldfile} {newfile}'\n",
    "print(cmd)\n",
    "copyfile(oldfile, newfile)\n",
    "\n",
    "# chain-B itp\n",
    "filename = 'topol_DNA_chain_B.itp'\n",
    "oldfile = path.join(old_folder, filename)\n",
    "newfile = path.join(new_folder, filename)\n",
    "cmd = f'cp {oldfile} {newfile}'\n",
    "print(cmd)\n",
    "copyfile(oldfile, newfile)\n",
    "\n",
    "# ndx file\n",
    "filename = f'{type_na}.ndx'\n",
    "oldfile = path.join(old_folder, 'ndx', filename)\n",
    "newfile = path.join(new_folder, filename)\n",
    "cmd = f'cp {oldfile} {newfile}'\n",
    "print(cmd)\n",
    "copyfile(oldfile, newfile)"
   ]
  },
  {
   "cell_type": "markdown",
   "metadata": {},
   "source": [
    "### Part 2: Prepare mdp files"
   ]
  },
  {
   "cell_type": "code",
   "execution_count": 12,
   "metadata": {},
   "outputs": [
    {
     "name": "stdout",
     "output_type": "stream",
     "text": [
      "cp /media/yizaochen/Transcend/simulation/amber_dd_rr/yizao_model/bdna+bdna/mdp/md9.mdp /home/yizaochen/simulation/yizao_model/bdna+bdna/extend_require_files/mdp/md10.mdp\n",
      "cp /media/yizaochen/Transcend/simulation/amber_dd_rr/yizao_model/bdna+bdna/mdp/md9.mdp /home/yizaochen/simulation/yizao_model/bdna+bdna/extend_require_files/mdp/md11.mdp\n",
      "cp /media/yizaochen/Transcend/simulation/amber_dd_rr/yizao_model/bdna+bdna/mdp/md9.mdp /home/yizaochen/simulation/yizao_model/bdna+bdna/extend_require_files/mdp/md12.mdp\n",
      "cp /media/yizaochen/Transcend/simulation/amber_dd_rr/yizao_model/bdna+bdna/mdp/md9.mdp /home/yizaochen/simulation/yizao_model/bdna+bdna/extend_require_files/mdp/md13.mdp\n",
      "cp /media/yizaochen/Transcend/simulation/amber_dd_rr/yizao_model/bdna+bdna/mdp/md9.mdp /home/yizaochen/simulation/yizao_model/bdna+bdna/extend_require_files/mdp/md14.mdp\n",
      "cp /media/yizaochen/Transcend/simulation/amber_dd_rr/yizao_model/bdna+bdna/mdp/md9.mdp /home/yizaochen/simulation/yizao_model/bdna+bdna/extend_require_files/mdp/md15.mdp\n",
      "cp /media/yizaochen/Transcend/simulation/amber_dd_rr/yizao_model/bdna+bdna/mdp/md9.mdp /home/yizaochen/simulation/yizao_model/bdna+bdna/extend_require_files/mdp/md16.mdp\n",
      "cp /media/yizaochen/Transcend/simulation/amber_dd_rr/yizao_model/bdna+bdna/mdp/md9.mdp /home/yizaochen/simulation/yizao_model/bdna+bdna/extend_require_files/mdp/md17.mdp\n",
      "cp /media/yizaochen/Transcend/simulation/amber_dd_rr/yizao_model/bdna+bdna/mdp/md9.mdp /home/yizaochen/simulation/yizao_model/bdna+bdna/extend_require_files/mdp/md18.mdp\n",
      "cp /media/yizaochen/Transcend/simulation/amber_dd_rr/yizao_model/bdna+bdna/mdp/md9.mdp /home/yizaochen/simulation/yizao_model/bdna+bdna/extend_require_files/mdp/md19.mdp\n"
     ]
    }
   ],
   "source": [
    "start_mdnum = 10\n",
    "end_mdnum = 19\n",
    "templatefile = path.join(old_folder, 'mdp', 'md9.mdp')\n",
    "find_pattern = 'init-step       = 450000000'\n",
    "\n",
    "for mdnum in range(start_mdnum, end_mdnum+1):\n",
    "    md_util.make_mdp(templatefile, mdnum, find_pattern, mdp_folder)"
   ]
  },
  {
   "cell_type": "markdown",
   "metadata": {},
   "source": [
    "### Part 3: Check mdnum in extend_simulation.qsub "
   ]
  },
  {
   "cell_type": "markdown",
   "metadata": {},
   "source": [
    "### Part 4: Submit qsub"
   ]
  },
  {
   "cell_type": "code",
   "execution_count": 1,
   "metadata": {},
   "outputs": [
    {
     "name": "stdout",
     "output_type": "stream",
     "text": [
      "qsub extend_simulation.qsub\n"
     ]
    }
   ],
   "source": [
    "print('qsub extend_simulation.qsub')"
   ]
  },
  {
   "cell_type": "code",
   "execution_count": null,
   "metadata": {},
   "outputs": [],
   "source": []
  }
 ],
 "metadata": {
  "kernelspec": {
   "display_name": "Python 3",
   "language": "python",
   "name": "python3"
  },
  "language_info": {
   "codemirror_mode": {
    "name": "ipython",
    "version": 3
   },
   "file_extension": ".py",
   "mimetype": "text/x-python",
   "name": "python",
   "nbconvert_exporter": "python",
   "pygments_lexer": "ipython3",
   "version": "3.8.5"
  }
 },
 "nbformat": 4,
 "nbformat_minor": 4
}
