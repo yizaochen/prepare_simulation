{
 "cells": [
  {
   "cell_type": "markdown",
   "metadata": {},
   "source": [
    "### Note:\n",
    "md0.xtc: 0_100ns,    md1.xtc: 100_200ns, md2.xtc: 200_300ns                                                       \n",
    "md3.xtc: 300_400ns,  md4.xtc: 400_500ns, md5.xtc: 500_600ns                                                       \n",
    "md6.xtc: 600_700ns,  md7.xtc: 700_800ns, md8.xtc: 800_900ns                                                       \n",
    "md9.xtc: 900_1000ns  "
   ]
  },
  {
   "cell_type": "code",
   "execution_count": 7,
   "metadata": {},
   "outputs": [],
   "source": [
    "from os import path, system, mkdir, rename\n",
    "from simulation import process_pbc\n",
    "gmx = '/usr/bin/gmx'\n",
    "rootfolder = '/home/ytcdata/simulation'"
   ]
  },
  {
   "cell_type": "markdown",
   "metadata": {},
   "source": [
    "### Part 1: Initialize"
   ]
  },
  {
   "cell_type": "code",
   "execution_count": 4,
   "metadata": {},
   "outputs": [],
   "source": [
    "host = 'tat_21mer'\n",
    "type_na = 'bdna+bdna'\n",
    "system_folder = path.join(rootfolder, host, type_na)"
   ]
  },
  {
   "cell_type": "markdown",
   "metadata": {},
   "source": [
    "### Part 2: Make prerequisite folders"
   ]
  },
  {
   "cell_type": "code",
   "execution_count": 5,
   "metadata": {},
   "outputs": [
    {
     "name": "stdout",
     "output_type": "stream",
     "text": [
      "mkdir /home/ytcdata/simulation/tat_21mer/bdna+bdna/order_xtc\n",
      "mkdir /home/ytcdata/simulation/tat_21mer/bdna+bdna/data\n",
      "mkdir /home/ytcdata/simulation/tat_21mer/bdna+bdna/data/fittrj\n",
      "mkdir /home/ytcdata/simulation/tat_21mer/bdna+bdna/data/gro\n",
      "mkdir /home/ytcdata/simulation/tat_21mer/bdna+bdna/data/raw\n",
      "mkdir /home/ytcdata/simulation/tat_21mer/bdna+bdna/data/roughtrj\n",
      "mkdir /home/ytcdata/simulation/tat_21mer/bdna+bdna/data/roughtrj/1000\n"
     ]
    }
   ],
   "source": [
    "for folder in ['order_xtc', 'data']:\n",
    "    target = path.join(system_folder, folder)\n",
    "    if not path.exists(target):\n",
    "        mkdir(target)\n",
    "        print(f'mkdir {target}')\n",
    "\n",
    "for folder in ['fittrj', 'gro', 'raw', 'roughtrj']:\n",
    "    target = path.join(system_folder, 'data', folder)\n",
    "    if not path.exists(target):\n",
    "        mkdir(target)\n",
    "        print(f'mkdir {target}')\n",
    "        \n",
    "for folder in ['1000']:\n",
    "    target = path.join(system_folder, 'data', 'roughtrj', folder)\n",
    "    if not path.exists(target):\n",
    "        mkdir(target)\n",
    "        print(f'mkdir {target}')"
   ]
  },
  {
   "cell_type": "markdown",
   "metadata": {},
   "source": [
    "### Part 3: Move all md*.xtc to order_xtc folder"
   ]
  },
  {
   "cell_type": "code",
   "execution_count": 19,
   "metadata": {},
   "outputs": [
    {
     "name": "stdout",
     "output_type": "stream",
     "text": [
      "mv /home/yizaochen/simulation/tgtg_21mer/bdna+bdna/md0.xtc /home/yizaochen/simulation/tgtg_21mer/bdna+bdna/order_xtc/md0.xtc\n",
      "mv /home/yizaochen/simulation/tgtg_21mer/bdna+bdna/md1.xtc /home/yizaochen/simulation/tgtg_21mer/bdna+bdna/order_xtc/md1.xtc\n",
      "mv /home/yizaochen/simulation/tgtg_21mer/bdna+bdna/md2.xtc /home/yizaochen/simulation/tgtg_21mer/bdna+bdna/order_xtc/md2.xtc\n",
      "mv /home/yizaochen/simulation/tgtg_21mer/bdna+bdna/md3.xtc /home/yizaochen/simulation/tgtg_21mer/bdna+bdna/order_xtc/md3.xtc\n",
      "mv /home/yizaochen/simulation/tgtg_21mer/bdna+bdna/md4.xtc /home/yizaochen/simulation/tgtg_21mer/bdna+bdna/order_xtc/md4.xtc\n",
      "mv /home/yizaochen/simulation/tgtg_21mer/bdna+bdna/md5.xtc /home/yizaochen/simulation/tgtg_21mer/bdna+bdna/order_xtc/md5.xtc\n",
      "mv /home/yizaochen/simulation/tgtg_21mer/bdna+bdna/md6.xtc /home/yizaochen/simulation/tgtg_21mer/bdna+bdna/order_xtc/md6.xtc\n",
      "mv /home/yizaochen/simulation/tgtg_21mer/bdna+bdna/md7.xtc /home/yizaochen/simulation/tgtg_21mer/bdna+bdna/order_xtc/md7.xtc\n",
      "mv /home/yizaochen/simulation/tgtg_21mer/bdna+bdna/md8.xtc /home/yizaochen/simulation/tgtg_21mer/bdna+bdna/order_xtc/md8.xtc\n",
      "mv /home/yizaochen/simulation/tgtg_21mer/bdna+bdna/md9.xtc /home/yizaochen/simulation/tgtg_21mer/bdna+bdna/order_xtc/md9.xtc\n"
     ]
    }
   ],
   "source": [
    "start_num = 0  # default: 0\n",
    "end_num = 9    # default: 9\n",
    "\n",
    "for i in range(start_num, end_num+1):                                                                                \n",
    "    f_name = 'md{0}.xtc'.format(str(i))                                                                                \n",
    "    old_f = path.join(system_folder, f_name)                                                                                 \n",
    "    new_f = path.join(system_folder, 'order_xtc', f_name)\n",
    "    if path.exists(old_f):\n",
    "        rename(old_f, new_f)\n",
    "        print(f'mv {old_f} {new_f}')\n",
    "    else:\n",
    "        print(f'{old_f} do not exist!')"
   ]
  },
  {
   "cell_type": "markdown",
   "metadata": {},
   "source": [
    "### Part 4: Make **.npt4.nopbc.gro"
   ]
  },
  {
   "cell_type": "code",
   "execution_count": 8,
   "metadata": {},
   "outputs": [
    {
     "name": "stdout",
     "output_type": "stream",
     "text": [
      "/usr/bin/gmx editconf -f /home/ytcdata/simulation/tat_21mer/bdna+bdna/npt4.gro -o /home/ytcdata/simulation/tat_21mer/bdna+bdna/npt4.nopbc.gro -pbc\n",
      "Check by...\n",
      "vmd -gro /home/ytcdata/simulation/tat_21mer/bdna+bdna/npt4.nopbc.gro\n"
     ]
    }
   ],
   "source": [
    "npt4gro = path.join(system_folder, 'npt4.gro')\n",
    "nopbc_npt4 = path.join(system_folder, 'npt4.nopbc.gro')\n",
    "\n",
    "# Method 1\n",
    "cmd = f'{gmx} editconf -f {npt4gro} -o {nopbc_npt4} -pbc'\n",
    "print(cmd)\n",
    "#system(cmd)\n",
    "\n",
    "# Method 2\n",
    "refgro = path.join(system_folder, f'{type_na}_solv_ions.gro')\n",
    "#cmd = f'{gmx} trjconv -s {refgro} -f {npt4gro} -o {nopbc_npt4}'\n",
    "#print(cmd)\n",
    "#system(cmd)\n",
    "\n",
    "print('Check by...')\n",
    "print(f'vmd -gro {nopbc_npt4}')"
   ]
  },
  {
   "cell_type": "code",
   "execution_count": 9,
   "metadata": {},
   "outputs": [
    {
     "name": "stdout",
     "output_type": "stream",
     "text": [
      "mv /home/ytcdata/simulation/tat_21mer/bdna+bdna/npt4.nopbc.gro /home/ytcdata/simulation/tat_21mer/bdna+bdna/order_xtc/npt4.nopbc.gro\n"
     ]
    }
   ],
   "source": [
    "old_f = path.join(system_folder, 'npt4.nopbc.gro')\n",
    "new_f = path.join(system_folder, 'order_xtc', 'npt4.nopbc.gro')\n",
    "\n",
    "if path.exists(old_f):\n",
    "    rename(old_f, new_f)\n",
    "    print(f'mv {old_f} {new_f}')"
   ]
  },
  {
   "cell_type": "markdown",
   "metadata": {},
   "source": [
    "### Part 5: Remove PBC and generate all gro file"
   ]
  },
  {
   "cell_type": "code",
   "execution_count": 10,
   "metadata": {},
   "outputs": [],
   "source": [
    "start = 0   # default: 0                                                                                                        \n",
    "end = 9     # default: 9"
   ]
  },
  {
   "cell_type": "code",
   "execution_count": 11,
   "metadata": {},
   "outputs": [
    {
     "name": "stdout",
     "output_type": "stream",
     "text": [
      "echo 0 | /usr/bin/gmx trjconv -s /home/ytcdata/simulation/tat_21mer/bdna+bdna/order_xtc/npt4.nopbc.gro -f /home/ytcdata/simulation/tat_21mer/bdna+bdna/order_xtc/md0.xtc -pbc nojump -o /home/ytcdata/simulation/tat_21mer/bdna+bdna/order_xtc/md0.nopbc.gro -dump 100000\n",
      "echo 0 | /usr/bin/gmx trjconv -s /home/ytcdata/simulation/tat_21mer/bdna+bdna/order_xtc/md0.nopbc.gro -f /home/ytcdata/simulation/tat_21mer/bdna+bdna/order_xtc/md1.xtc -pbc nojump -o /home/ytcdata/simulation/tat_21mer/bdna+bdna/order_xtc/md1.nopbc.gro -dump 200000\n",
      "echo 0 | /usr/bin/gmx trjconv -s /home/ytcdata/simulation/tat_21mer/bdna+bdna/order_xtc/md1.nopbc.gro -f /home/ytcdata/simulation/tat_21mer/bdna+bdna/order_xtc/md2.xtc -pbc nojump -o /home/ytcdata/simulation/tat_21mer/bdna+bdna/order_xtc/md2.nopbc.gro -dump 300000\n",
      "echo 0 | /usr/bin/gmx trjconv -s /home/ytcdata/simulation/tat_21mer/bdna+bdna/order_xtc/md2.nopbc.gro -f /home/ytcdata/simulation/tat_21mer/bdna+bdna/order_xtc/md3.xtc -pbc nojump -o /home/ytcdata/simulation/tat_21mer/bdna+bdna/order_xtc/md3.nopbc.gro -dump 400000\n",
      "echo 0 | /usr/bin/gmx trjconv -s /home/ytcdata/simulation/tat_21mer/bdna+bdna/order_xtc/md3.nopbc.gro -f /home/ytcdata/simulation/tat_21mer/bdna+bdna/order_xtc/md4.xtc -pbc nojump -o /home/ytcdata/simulation/tat_21mer/bdna+bdna/order_xtc/md4.nopbc.gro -dump 500000\n",
      "echo 0 | /usr/bin/gmx trjconv -s /home/ytcdata/simulation/tat_21mer/bdna+bdna/order_xtc/md4.nopbc.gro -f /home/ytcdata/simulation/tat_21mer/bdna+bdna/order_xtc/md5.xtc -pbc nojump -o /home/ytcdata/simulation/tat_21mer/bdna+bdna/order_xtc/md5.nopbc.gro -dump 600000\n",
      "echo 0 | /usr/bin/gmx trjconv -s /home/ytcdata/simulation/tat_21mer/bdna+bdna/order_xtc/md5.nopbc.gro -f /home/ytcdata/simulation/tat_21mer/bdna+bdna/order_xtc/md6.xtc -pbc nojump -o /home/ytcdata/simulation/tat_21mer/bdna+bdna/order_xtc/md6.nopbc.gro -dump 700000\n",
      "echo 0 | /usr/bin/gmx trjconv -s /home/ytcdata/simulation/tat_21mer/bdna+bdna/order_xtc/md6.nopbc.gro -f /home/ytcdata/simulation/tat_21mer/bdna+bdna/order_xtc/md7.xtc -pbc nojump -o /home/ytcdata/simulation/tat_21mer/bdna+bdna/order_xtc/md7.nopbc.gro -dump 800000\n",
      "echo 0 | /usr/bin/gmx trjconv -s /home/ytcdata/simulation/tat_21mer/bdna+bdna/order_xtc/md7.nopbc.gro -f /home/ytcdata/simulation/tat_21mer/bdna+bdna/order_xtc/md8.xtc -pbc nojump -o /home/ytcdata/simulation/tat_21mer/bdna+bdna/order_xtc/md8.nopbc.gro -dump 900000\n",
      "echo 0 | /usr/bin/gmx trjconv -s /home/ytcdata/simulation/tat_21mer/bdna+bdna/order_xtc/md8.nopbc.gro -f /home/ytcdata/simulation/tat_21mer/bdna+bdna/order_xtc/md9.xtc -pbc nojump -o /home/ytcdata/simulation/tat_21mer/bdna+bdna/order_xtc/md9.nopbc.gro -dump 1000000\n"
     ]
    }
   ],
   "source": [
    "for mdnum in range(start, end+1): \n",
    "    process_pbc.process_nopbcgro(gmx, system_folder, mdnum)"
   ]
  },
  {
   "cell_type": "markdown",
   "metadata": {},
   "source": [
    "### Part 6: Process xtc using trjconv nojump, and only output nucleic acids"
   ]
  },
  {
   "cell_type": "code",
   "execution_count": 12,
   "metadata": {},
   "outputs": [
    {
     "name": "stdout",
     "output_type": "stream",
     "text": [
      "/usr/bin/gmx make_ndx -f /home/ytcdata/simulation/tat_21mer/bdna+bdna/em2.gro -o /home/ytcdata/simulation/tat_21mer/bdna+bdna/ndx/bdna+bdna.ndx -n /home/ytcdata/simulation/tat_21mer/bdna+bdna/ndx/bdna+bdna.ndx\n"
     ]
    }
   ],
   "source": [
    "# Check atom group number by make_ndx\n",
    "em2gro = path.join(system_folder, 'em2.gro')\n",
    "ndxfile = path.join(system_folder, 'ndx', f'{type_na}.ndx')\n",
    "testndx = path.join(system_folder, 'test.ndx')\n",
    "\n",
    "cmd = f'{gmx} make_ndx -f {em2gro} -o {ndxfile} -n {ndxfile}'\n",
    "print(cmd)"
   ]
  },
  {
   "cell_type": "code",
   "execution_count": 13,
   "metadata": {},
   "outputs": [
    {
     "name": "stdout",
     "output_type": "stream",
     "text": [
      "echo 1 1| /usr/bin/gmx trjconv -s /home/ytcdata/simulation/tat_21mer/bdna+bdna/order_xtc/npt4.nopbc.gro -f /home/ytcdata/simulation/tat_21mer/bdna+bdna/order_xtc/md0.xtc -pbc nojump -o /home/ytcdata/simulation/tat_21mer/bdna+bdna/data/raw/bdna+bdna.nopbc.1.xtc -center -n /home/ytcdata/simulation/tat_21mer/bdna+bdna/ndx/bdna+bdna.ndx\n",
      "echo 1 1| /usr/bin/gmx trjconv -s /home/ytcdata/simulation/tat_21mer/bdna+bdna/order_xtc/md0.nopbc.gro -f /home/ytcdata/simulation/tat_21mer/bdna+bdna/order_xtc/md1.xtc -pbc nojump -o /home/ytcdata/simulation/tat_21mer/bdna+bdna/data/raw/bdna+bdna.nopbc.2.xtc -center -n /home/ytcdata/simulation/tat_21mer/bdna+bdna/ndx/bdna+bdna.ndx\n",
      "echo 1 1| /usr/bin/gmx trjconv -s /home/ytcdata/simulation/tat_21mer/bdna+bdna/order_xtc/md1.nopbc.gro -f /home/ytcdata/simulation/tat_21mer/bdna+bdna/order_xtc/md2.xtc -pbc nojump -o /home/ytcdata/simulation/tat_21mer/bdna+bdna/data/raw/bdna+bdna.nopbc.3.xtc -center -n /home/ytcdata/simulation/tat_21mer/bdna+bdna/ndx/bdna+bdna.ndx\n",
      "echo 1 1| /usr/bin/gmx trjconv -s /home/ytcdata/simulation/tat_21mer/bdna+bdna/order_xtc/md2.nopbc.gro -f /home/ytcdata/simulation/tat_21mer/bdna+bdna/order_xtc/md3.xtc -pbc nojump -o /home/ytcdata/simulation/tat_21mer/bdna+bdna/data/raw/bdna+bdna.nopbc.4.xtc -center -n /home/ytcdata/simulation/tat_21mer/bdna+bdna/ndx/bdna+bdna.ndx\n",
      "echo 1 1| /usr/bin/gmx trjconv -s /home/ytcdata/simulation/tat_21mer/bdna+bdna/order_xtc/md3.nopbc.gro -f /home/ytcdata/simulation/tat_21mer/bdna+bdna/order_xtc/md4.xtc -pbc nojump -o /home/ytcdata/simulation/tat_21mer/bdna+bdna/data/raw/bdna+bdna.nopbc.5.xtc -center -n /home/ytcdata/simulation/tat_21mer/bdna+bdna/ndx/bdna+bdna.ndx\n",
      "echo 1 1| /usr/bin/gmx trjconv -s /home/ytcdata/simulation/tat_21mer/bdna+bdna/order_xtc/md4.nopbc.gro -f /home/ytcdata/simulation/tat_21mer/bdna+bdna/order_xtc/md5.xtc -pbc nojump -o /home/ytcdata/simulation/tat_21mer/bdna+bdna/data/raw/bdna+bdna.nopbc.6.xtc -center -n /home/ytcdata/simulation/tat_21mer/bdna+bdna/ndx/bdna+bdna.ndx\n",
      "echo 1 1| /usr/bin/gmx trjconv -s /home/ytcdata/simulation/tat_21mer/bdna+bdna/order_xtc/md5.nopbc.gro -f /home/ytcdata/simulation/tat_21mer/bdna+bdna/order_xtc/md6.xtc -pbc nojump -o /home/ytcdata/simulation/tat_21mer/bdna+bdna/data/raw/bdna+bdna.nopbc.7.xtc -center -n /home/ytcdata/simulation/tat_21mer/bdna+bdna/ndx/bdna+bdna.ndx\n",
      "echo 1 1| /usr/bin/gmx trjconv -s /home/ytcdata/simulation/tat_21mer/bdna+bdna/order_xtc/md6.nopbc.gro -f /home/ytcdata/simulation/tat_21mer/bdna+bdna/order_xtc/md7.xtc -pbc nojump -o /home/ytcdata/simulation/tat_21mer/bdna+bdna/data/raw/bdna+bdna.nopbc.8.xtc -center -n /home/ytcdata/simulation/tat_21mer/bdna+bdna/ndx/bdna+bdna.ndx\n",
      "echo 1 1| /usr/bin/gmx trjconv -s /home/ytcdata/simulation/tat_21mer/bdna+bdna/order_xtc/md7.nopbc.gro -f /home/ytcdata/simulation/tat_21mer/bdna+bdna/order_xtc/md8.xtc -pbc nojump -o /home/ytcdata/simulation/tat_21mer/bdna+bdna/data/raw/bdna+bdna.nopbc.9.xtc -center -n /home/ytcdata/simulation/tat_21mer/bdna+bdna/ndx/bdna+bdna.ndx\n",
      "echo 1 1| /usr/bin/gmx trjconv -s /home/ytcdata/simulation/tat_21mer/bdna+bdna/order_xtc/md8.nopbc.gro -f /home/ytcdata/simulation/tat_21mer/bdna+bdna/order_xtc/md9.xtc -pbc nojump -o /home/ytcdata/simulation/tat_21mer/bdna+bdna/data/raw/bdna+bdna.nopbc.10.xtc -center -n /home/ytcdata/simulation/tat_21mer/bdna+bdna/ndx/bdna+bdna.ndx\n"
     ]
    }
   ],
   "source": [
    "# Set atom group number and process xtc\n",
    "atgnumber = 1 # None\n",
    "\n",
    "if atgnumber is None:\n",
    "    print('Please set atom group number!!!!')\n",
    "else:\n",
    "    for mdnum in range(start+1, end+2):\n",
    "        process_pbc.process_xtc(gmx, system_folder, type_na, mdnum, atgnumber)"
   ]
  },
  {
   "cell_type": "markdown",
   "metadata": {},
   "source": [
    "### Part 7: Fitting xtc"
   ]
  },
  {
   "cell_type": "code",
   "execution_count": 15,
   "metadata": {},
   "outputs": [
    {
     "name": "stdout",
     "output_type": "stream",
     "text": [
      "/usr/bin/gmx editconf -f /home/ytcdata/simulation/tat_21mer/bdna+bdna/order_xtc/npt4.nopbc.gro -o /home/ytcdata/simulation/tat_21mer/bdna+bdna/data/gro/bdna+bdna.npt4.fit.gro -n /home/ytcdata/simulation/tat_21mer/bdna+bdna/ndx/bdna+bdna.ndx\n"
     ]
    }
   ],
   "source": [
    "# Make only nucleic acids structure, and center at 0 0 0\n",
    "nopbc_npt4 = path.join(system_folder, 'order_xtc', 'npt4.nopbc.gro')\n",
    "npt4nacenter = path.join(system_folder, 'data', 'gro', f'{type_na}.npt4.fit.gro')\n",
    "ndxfile = path.join(system_folder, 'ndx', f'{type_na}.ndx')\n",
    "cmd = f'{gmx} editconf -f {nopbc_npt4} -o {npt4nacenter} -n {ndxfile}'\n",
    "print(cmd)"
   ]
  },
  {
   "cell_type": "code",
   "execution_count": 16,
   "metadata": {},
   "outputs": [
    {
     "name": "stdout",
     "output_type": "stream",
     "text": [
      "echo 0 0| /usr/bin/gmx trjconv -fit rot+trans -s /home/ytcdata/simulation/tat_21mer/bdna+bdna/data/gro/bdna+bdna.npt4.fit.gro -f /home/ytcdata/simulation/tat_21mer/bdna+bdna/data/raw/bdna+bdna.nopbc.1.xtc -o /home/ytcdata/simulation/tat_21mer/bdna+bdna/data/fittrj/bdna+bdna.nopbc.1.fit.xtc\n",
      "echo 0 0| /usr/bin/gmx trjconv -fit rot+trans -s /home/ytcdata/simulation/tat_21mer/bdna+bdna/data/gro/bdna+bdna.npt4.fit.gro -f /home/ytcdata/simulation/tat_21mer/bdna+bdna/data/raw/bdna+bdna.nopbc.2.xtc -o /home/ytcdata/simulation/tat_21mer/bdna+bdna/data/fittrj/bdna+bdna.nopbc.2.fit.xtc\n",
      "echo 0 0| /usr/bin/gmx trjconv -fit rot+trans -s /home/ytcdata/simulation/tat_21mer/bdna+bdna/data/gro/bdna+bdna.npt4.fit.gro -f /home/ytcdata/simulation/tat_21mer/bdna+bdna/data/raw/bdna+bdna.nopbc.3.xtc -o /home/ytcdata/simulation/tat_21mer/bdna+bdna/data/fittrj/bdna+bdna.nopbc.3.fit.xtc\n",
      "echo 0 0| /usr/bin/gmx trjconv -fit rot+trans -s /home/ytcdata/simulation/tat_21mer/bdna+bdna/data/gro/bdna+bdna.npt4.fit.gro -f /home/ytcdata/simulation/tat_21mer/bdna+bdna/data/raw/bdna+bdna.nopbc.4.xtc -o /home/ytcdata/simulation/tat_21mer/bdna+bdna/data/fittrj/bdna+bdna.nopbc.4.fit.xtc\n",
      "echo 0 0| /usr/bin/gmx trjconv -fit rot+trans -s /home/ytcdata/simulation/tat_21mer/bdna+bdna/data/gro/bdna+bdna.npt4.fit.gro -f /home/ytcdata/simulation/tat_21mer/bdna+bdna/data/raw/bdna+bdna.nopbc.5.xtc -o /home/ytcdata/simulation/tat_21mer/bdna+bdna/data/fittrj/bdna+bdna.nopbc.5.fit.xtc\n",
      "echo 0 0| /usr/bin/gmx trjconv -fit rot+trans -s /home/ytcdata/simulation/tat_21mer/bdna+bdna/data/gro/bdna+bdna.npt4.fit.gro -f /home/ytcdata/simulation/tat_21mer/bdna+bdna/data/raw/bdna+bdna.nopbc.6.xtc -o /home/ytcdata/simulation/tat_21mer/bdna+bdna/data/fittrj/bdna+bdna.nopbc.6.fit.xtc\n",
      "echo 0 0| /usr/bin/gmx trjconv -fit rot+trans -s /home/ytcdata/simulation/tat_21mer/bdna+bdna/data/gro/bdna+bdna.npt4.fit.gro -f /home/ytcdata/simulation/tat_21mer/bdna+bdna/data/raw/bdna+bdna.nopbc.7.xtc -o /home/ytcdata/simulation/tat_21mer/bdna+bdna/data/fittrj/bdna+bdna.nopbc.7.fit.xtc\n",
      "echo 0 0| /usr/bin/gmx trjconv -fit rot+trans -s /home/ytcdata/simulation/tat_21mer/bdna+bdna/data/gro/bdna+bdna.npt4.fit.gro -f /home/ytcdata/simulation/tat_21mer/bdna+bdna/data/raw/bdna+bdna.nopbc.8.xtc -o /home/ytcdata/simulation/tat_21mer/bdna+bdna/data/fittrj/bdna+bdna.nopbc.8.fit.xtc\n",
      "echo 0 0| /usr/bin/gmx trjconv -fit rot+trans -s /home/ytcdata/simulation/tat_21mer/bdna+bdna/data/gro/bdna+bdna.npt4.fit.gro -f /home/ytcdata/simulation/tat_21mer/bdna+bdna/data/raw/bdna+bdna.nopbc.9.xtc -o /home/ytcdata/simulation/tat_21mer/bdna+bdna/data/fittrj/bdna+bdna.nopbc.9.fit.xtc\n",
      "echo 0 0| /usr/bin/gmx trjconv -fit rot+trans -s /home/ytcdata/simulation/tat_21mer/bdna+bdna/data/gro/bdna+bdna.npt4.fit.gro -f /home/ytcdata/simulation/tat_21mer/bdna+bdna/data/raw/bdna+bdna.nopbc.10.xtc -o /home/ytcdata/simulation/tat_21mer/bdna+bdna/data/fittrj/bdna+bdna.nopbc.10.fit.xtc\n"
     ]
    }
   ],
   "source": [
    "for mdnum in range(start+1, end+2):\n",
    "    process_pbc.fitting_xtc(gmx, system_folder, type_na, mdnum)"
   ]
  },
  {
   "cell_type": "markdown",
   "metadata": {},
   "source": [
    "### Part 8: Extract Trajectory using interval 100 ps"
   ]
  },
  {
   "cell_type": "code",
   "execution_count": 17,
   "metadata": {},
   "outputs": [
    {
     "name": "stdout",
     "output_type": "stream",
     "text": [
      "/usr/bin/gmx trjcat -f /home/ytcdata/simulation/tat_21mer/bdna+bdna/data/fittrj/bdna+bdna.nopbc.1.fit.xtc -o /home/ytcdata/simulation/tat_21mer/bdna+bdna/data/roughtrj/1000/bdna+bdna.nopbc.fit.1.1000.xtc -dt 100\n",
      "/usr/bin/gmx trjcat -f /home/ytcdata/simulation/tat_21mer/bdna+bdna/data/fittrj/bdna+bdna.nopbc.2.fit.xtc -o /home/ytcdata/simulation/tat_21mer/bdna+bdna/data/roughtrj/1000/bdna+bdna.nopbc.fit.2.1000.xtc -dt 100\n",
      "/usr/bin/gmx trjcat -f /home/ytcdata/simulation/tat_21mer/bdna+bdna/data/fittrj/bdna+bdna.nopbc.3.fit.xtc -o /home/ytcdata/simulation/tat_21mer/bdna+bdna/data/roughtrj/1000/bdna+bdna.nopbc.fit.3.1000.xtc -dt 100\n",
      "/usr/bin/gmx trjcat -f /home/ytcdata/simulation/tat_21mer/bdna+bdna/data/fittrj/bdna+bdna.nopbc.4.fit.xtc -o /home/ytcdata/simulation/tat_21mer/bdna+bdna/data/roughtrj/1000/bdna+bdna.nopbc.fit.4.1000.xtc -dt 100\n",
      "/usr/bin/gmx trjcat -f /home/ytcdata/simulation/tat_21mer/bdna+bdna/data/fittrj/bdna+bdna.nopbc.5.fit.xtc -o /home/ytcdata/simulation/tat_21mer/bdna+bdna/data/roughtrj/1000/bdna+bdna.nopbc.fit.5.1000.xtc -dt 100\n",
      "/usr/bin/gmx trjcat -f /home/ytcdata/simulation/tat_21mer/bdna+bdna/data/fittrj/bdna+bdna.nopbc.6.fit.xtc -o /home/ytcdata/simulation/tat_21mer/bdna+bdna/data/roughtrj/1000/bdna+bdna.nopbc.fit.6.1000.xtc -dt 100\n",
      "/usr/bin/gmx trjcat -f /home/ytcdata/simulation/tat_21mer/bdna+bdna/data/fittrj/bdna+bdna.nopbc.7.fit.xtc -o /home/ytcdata/simulation/tat_21mer/bdna+bdna/data/roughtrj/1000/bdna+bdna.nopbc.fit.7.1000.xtc -dt 100\n",
      "/usr/bin/gmx trjcat -f /home/ytcdata/simulation/tat_21mer/bdna+bdna/data/fittrj/bdna+bdna.nopbc.8.fit.xtc -o /home/ytcdata/simulation/tat_21mer/bdna+bdna/data/roughtrj/1000/bdna+bdna.nopbc.fit.8.1000.xtc -dt 100\n",
      "/usr/bin/gmx trjcat -f /home/ytcdata/simulation/tat_21mer/bdna+bdna/data/fittrj/bdna+bdna.nopbc.9.fit.xtc -o /home/ytcdata/simulation/tat_21mer/bdna+bdna/data/roughtrj/1000/bdna+bdna.nopbc.fit.9.1000.xtc -dt 100\n",
      "/usr/bin/gmx trjcat -f /home/ytcdata/simulation/tat_21mer/bdna+bdna/data/fittrj/bdna+bdna.nopbc.10.fit.xtc -o /home/ytcdata/simulation/tat_21mer/bdna+bdna/data/roughtrj/1000/bdna+bdna.nopbc.fit.10.1000.xtc -dt 100\n"
     ]
    }
   ],
   "source": [
    "for mdnum in range(start+1, end+2):\n",
    "    process_pbc.extract_trajectory_by_big_interval(gmx, system_folder, type_na, mdnum)"
   ]
  },
  {
   "cell_type": "markdown",
   "metadata": {},
   "source": [
    "### Part 9: Concatenate and using vmd show"
   ]
  },
  {
   "cell_type": "code",
   "execution_count": 18,
   "metadata": {},
   "outputs": [
    {
     "name": "stdout",
     "output_type": "stream",
     "text": [
      "/usr/bin/gmx trjcat -f /home/ytcdata/simulation/tat_21mer/bdna+bdna/data/roughtrj/1000/bdna+bdna.nopbc.fit.1.1000.xtc /home/ytcdata/simulation/tat_21mer/bdna+bdna/data/roughtrj/1000/bdna+bdna.nopbc.fit.2.1000.xtc /home/ytcdata/simulation/tat_21mer/bdna+bdna/data/roughtrj/1000/bdna+bdna.nopbc.fit.3.1000.xtc /home/ytcdata/simulation/tat_21mer/bdna+bdna/data/roughtrj/1000/bdna+bdna.nopbc.fit.4.1000.xtc /home/ytcdata/simulation/tat_21mer/bdna+bdna/data/roughtrj/1000/bdna+bdna.nopbc.fit.5.1000.xtc /home/ytcdata/simulation/tat_21mer/bdna+bdna/data/roughtrj/1000/bdna+bdna.nopbc.fit.6.1000.xtc /home/ytcdata/simulation/tat_21mer/bdna+bdna/data/roughtrj/1000/bdna+bdna.nopbc.fit.7.1000.xtc /home/ytcdata/simulation/tat_21mer/bdna+bdna/data/roughtrj/1000/bdna+bdna.nopbc.fit.8.1000.xtc /home/ytcdata/simulation/tat_21mer/bdna+bdna/data/roughtrj/1000/bdna+bdna.nopbc.fit.9.1000.xtc /home/ytcdata/simulation/tat_21mer/bdna+bdna/data/roughtrj/1000/bdna+bdna.nopbc.fit.10.1000.xtc  -o /home/ytcdata/simulation/tat_21mer/bdna+bdna/data/roughtrj/1000/bdna+bdna.nopbc.fit.1to10.1000.xtc -dt 100\n"
     ]
    }
   ],
   "source": [
    "process_pbc.concatenate_trajectory(gmx, system_folder, type_na, start, end)"
   ]
  },
  {
   "cell_type": "code",
   "execution_count": 19,
   "metadata": {},
   "outputs": [
    {
     "name": "stdout",
     "output_type": "stream",
     "text": [
      "vmd -gro /home/ytcdata/simulation/tat_21mer/bdna+bdna/data/gro/bdna+bdna.npt4.fit.gro /home/ytcdata/simulation/tat_21mer/bdna+bdna/data/roughtrj/1000/bdna+bdna.nopbc.fit.1to10.1000.xtc\n"
     ]
    }
   ],
   "source": [
    "refgro = path.join(system_folder, 'data', 'gro', f'{type_na}.npt4.fit.gro')\n",
    "outxtc = path.join(system_folder, 'data', 'roughtrj', '1000', f'{type_na}.nopbc.fit.{start+1}to{end+1}.1000.xtc')\n",
    "print(f'vmd -gro {refgro} {outxtc}')"
   ]
  },
  {
   "cell_type": "markdown",
   "metadata": {},
   "source": [
    "### Reload Function"
   ]
  },
  {
   "cell_type": "code",
   "execution_count": 42,
   "metadata": {},
   "outputs": [
    {
     "data": {
      "text/plain": [
       "<module 'process_pbc' from '/home/yizaochen/codes/simulation_scripts/process_pbc.py'>"
      ]
     },
     "execution_count": 42,
     "metadata": {},
     "output_type": "execute_result"
    }
   ],
   "source": [
    "from imp import reload\n",
    "reload(process_pbc)"
   ]
  },
  {
   "cell_type": "code",
   "execution_count": null,
   "metadata": {},
   "outputs": [],
   "source": []
  }
 ],
 "metadata": {
  "kernelspec": {
   "display_name": "Python 3",
   "language": "python",
   "name": "python3"
  },
  "language_info": {
   "codemirror_mode": {
    "name": "ipython",
    "version": 3
   },
   "file_extension": ".py",
   "mimetype": "text/x-python",
   "name": "python",
   "nbconvert_exporter": "python",
   "pygments_lexer": "ipython3",
   "version": "3.8.5"
  }
 },
 "nbformat": 4,
 "nbformat_minor": 4
}
