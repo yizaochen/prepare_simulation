{
 "cells": [
  {
   "cell_type": "code",
   "execution_count": 1,
   "metadata": {},
   "outputs": [],
   "source": [
    "from os import path"
   ]
  },
  {
   "cell_type": "markdown",
   "metadata": {},
   "source": [
    "### Part 1: In allostery"
   ]
  },
  {
   "cell_type": "code",
   "execution_count": 1,
   "metadata": {},
   "outputs": [
    {
     "ename": "NameError",
     "evalue": "name 'path' is not defined",
     "output_type": "error",
     "traceback": [
      "\u001b[0;31m---------------------------------------------------------------------------\u001b[0m",
      "\u001b[0;31mNameError\u001b[0m                                 Traceback (most recent call last)",
      "\u001b[0;32m<ipython-input-1-6f2af8696e93>\u001b[0m in \u001b[0;36m<module>\u001b[0;34m\u001b[0m\n\u001b[1;32m      3\u001b[0m \u001b[0mend_id\u001b[0m \u001b[0;34m=\u001b[0m \u001b[0;36m49\u001b[0m\u001b[0;34m\u001b[0m\u001b[0;34m\u001b[0m\u001b[0m\n\u001b[1;32m      4\u001b[0m \u001b[0;34m\u001b[0m\u001b[0m\n\u001b[0;32m----> 5\u001b[0;31m \u001b[0mworkfolder\u001b[0m \u001b[0;34m=\u001b[0m \u001b[0mpath\u001b[0m\u001b[0;34m.\u001b[0m\u001b[0mjoin\u001b[0m\u001b[0;34m(\u001b[0m\u001b[0;34m'/home/yizaochen/simulation'\u001b[0m\u001b[0;34m,\u001b[0m \u001b[0mhost\u001b[0m\u001b[0;34m,\u001b[0m \u001b[0;34m'bdna+bdna'\u001b[0m\u001b[0;34m)\u001b[0m\u001b[0;34m\u001b[0m\u001b[0;34m\u001b[0m\u001b[0m\n\u001b[0m\u001b[1;32m      6\u001b[0m \u001b[0mtrajfolder\u001b[0m \u001b[0;34m=\u001b[0m \u001b[0mpath\u001b[0m\u001b[0;34m.\u001b[0m\u001b[0mjoin\u001b[0m\u001b[0;34m(\u001b[0m\u001b[0mworkfolder\u001b[0m\u001b[0;34m,\u001b[0m \u001b[0;34mf'md{start_id}_{end_id}xtc'\u001b[0m\u001b[0;34m)\u001b[0m\u001b[0;34m\u001b[0m\u001b[0;34m\u001b[0m\u001b[0m\n\u001b[1;32m      7\u001b[0m \u001b[0;34m\u001b[0m\u001b[0m\n",
      "\u001b[0;31mNameError\u001b[0m: name 'path' is not defined"
     ]
    }
   ],
   "source": [
    "host = 'tat_3_21mer'\n",
    "start_id = 10\n",
    "end_id = 49\n",
    "\n",
    "workfolder = path.join('/home/yizaochen/simulation', host, 'bdna+bdna')\n",
    "trajfolder = path.join(workfolder, f'md{start_id}_{end_id}xtc')\n",
    "\n",
    "print(f'cd {workfolder}')\n",
    "print(f'mkdir {trajfolder}')"
   ]
  },
  {
   "cell_type": "code",
   "execution_count": 3,
   "metadata": {},
   "outputs": [
    {
     "name": "stdout",
     "output_type": "stream",
     "text": [
      "mv /home/yizaochen/simulation/a_tract_21mer/bdna+bdna/md40.xtc /home/yizaochen/simulation/a_tract_21mer/bdna+bdna/md40_49xtc/md40.xtc\n",
      "mv /home/yizaochen/simulation/a_tract_21mer/bdna+bdna/md41.xtc /home/yizaochen/simulation/a_tract_21mer/bdna+bdna/md40_49xtc/md41.xtc\n",
      "mv /home/yizaochen/simulation/a_tract_21mer/bdna+bdna/md42.xtc /home/yizaochen/simulation/a_tract_21mer/bdna+bdna/md40_49xtc/md42.xtc\n",
      "mv /home/yizaochen/simulation/a_tract_21mer/bdna+bdna/md43.xtc /home/yizaochen/simulation/a_tract_21mer/bdna+bdna/md40_49xtc/md43.xtc\n",
      "mv /home/yizaochen/simulation/a_tract_21mer/bdna+bdna/md44.xtc /home/yizaochen/simulation/a_tract_21mer/bdna+bdna/md40_49xtc/md44.xtc\n",
      "mv /home/yizaochen/simulation/a_tract_21mer/bdna+bdna/md45.xtc /home/yizaochen/simulation/a_tract_21mer/bdna+bdna/md40_49xtc/md45.xtc\n",
      "mv /home/yizaochen/simulation/a_tract_21mer/bdna+bdna/md46.xtc /home/yizaochen/simulation/a_tract_21mer/bdna+bdna/md40_49xtc/md46.xtc\n",
      "mv /home/yizaochen/simulation/a_tract_21mer/bdna+bdna/md47.xtc /home/yizaochen/simulation/a_tract_21mer/bdna+bdna/md40_49xtc/md47.xtc\n",
      "mv /home/yizaochen/simulation/a_tract_21mer/bdna+bdna/md48.xtc /home/yizaochen/simulation/a_tract_21mer/bdna+bdna/md40_49xtc/md48.xtc\n",
      "mv /home/yizaochen/simulation/a_tract_21mer/bdna+bdna/md49.xtc /home/yizaochen/simulation/a_tract_21mer/bdna+bdna/md40_49xtc/md49.xtc\n"
     ]
    }
   ],
   "source": [
    "for idx in range(start_id, end_id+1):\n",
    "    oldfile = path.join(workfolder, f'md{idx}.xtc')\n",
    "    newfile = path.join(trajfolder, f'md{idx}.xtc')\n",
    "    print(f'mv {oldfile} {newfile}')"
   ]
  },
  {
   "cell_type": "markdown",
   "metadata": {},
   "source": [
    "### Part 2: In local machine"
   ]
  },
  {
   "cell_type": "code",
   "execution_count": 3,
   "metadata": {},
   "outputs": [],
   "source": [
    "local_hostfoler = path.join('/home/ytcdata/simulation', host, 'bdna+bdna', 'order_xtc')"
   ]
  },
  {
   "cell_type": "code",
   "execution_count": 4,
   "metadata": {},
   "outputs": [
    {
     "name": "stdout",
     "output_type": "stream",
     "text": [
      "rsync -avzh yizaochen@140.113.120.133:/home/yizaochen/simulation/tat_1_21mer/bdna+bdna/md10_49xtc /home/ytcdata/simulation/tat_1_21mer/bdna+bdna/order_xtc/\n"
     ]
    }
   ],
   "source": [
    "user = 'yizaochen'\n",
    "server_ip = '140.113.120.133'\n",
    "old = f'{user}@{server_ip}:{trajfolder}'\n",
    "cmd = f'rsync -avzh {old} {local_hostfoler}/'\n",
    "print(cmd)"
   ]
  },
  {
   "cell_type": "code",
   "execution_count": null,
   "metadata": {},
   "outputs": [],
   "source": []
  }
 ],
 "metadata": {
  "kernelspec": {
   "display_name": "Python 3",
   "language": "python",
   "name": "python3"
  },
  "language_info": {
   "codemirror_mode": {
    "name": "ipython",
    "version": 3
   },
   "file_extension": ".py",
   "mimetype": "text/x-python",
   "name": "python",
   "nbconvert_exporter": "python",
   "pygments_lexer": "ipython3",
   "version": "3.8.5"
  }
 },
 "nbformat": 4,
 "nbformat_minor": 4
}
