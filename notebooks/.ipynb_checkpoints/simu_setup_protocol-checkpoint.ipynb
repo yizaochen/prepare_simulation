{
 "cells": [
  {
   "cell_type": "code",
   "execution_count": 1,
   "metadata": {},
   "outputs": [],
   "source": [
    "type_na = 'bdna+bdna'"
   ]
  },
  {
   "cell_type": "markdown",
   "metadata": {},
   "source": [
    "### Part 0: Copy mdp folder"
   ]
  },
  {
   "cell_type": "code",
   "execution_count": 2,
   "metadata": {},
   "outputs": [
    {
     "name": "stdout",
     "output_type": "stream",
     "text": [
      "cp -r /home/yizaochen/simulation/500mM/a_tract_21mer/mdp/ ./\n"
     ]
    }
   ],
   "source": [
    "print(f'cp -r /home/yizaochen/simulation/500mM/a_tract_21mer/mdp/ ./')"
   ]
  },
  {
   "cell_type": "markdown",
   "metadata": {},
   "source": [
    "### Part 1: pdb2gmx"
   ]
  },
  {
   "cell_type": "code",
   "execution_count": 4,
   "metadata": {},
   "outputs": [
    {
     "name": "stdout",
     "output_type": "stream",
     "text": [
      "gmx pdb2gmx -f bdna+bdna.pdb -o bdna+bdna.gro -water tip3p -ter -chainsep ter\n"
     ]
    }
   ],
   "source": [
    "cmd = f'gmx pdb2gmx -f {type_na}.pdb -o {type_na}.gro -water tip3p -ter -chainsep ter'\n",
    "print(cmd)\n",
    "# Choose \"AMBER14SB-parmbsc1-DNA\" for DNA as force field"
   ]
  },
  {
   "cell_type": "code",
   "execution_count": 5,
   "metadata": {},
   "outputs": [],
   "source": [
    "# Total charge in system -40.000 e"
   ]
  },
  {
   "cell_type": "markdown",
   "metadata": {},
   "source": [
    "### Part 2: Set the water box and solvation"
   ]
  },
  {
   "cell_type": "code",
   "execution_count": 5,
   "metadata": {},
   "outputs": [
    {
     "name": "stdout",
     "output_type": "stream",
     "text": [
      "gmx editconf -f bdna+bdna.gro -o bdna+bdna_dode.gro -c -d 1.0 -bt dodecahedron\n",
      "gmx solvate -cp bdna+bdna_dode.gro -cs spc216.gro -o bdna+bdna_solv.gro -p topol.top\n"
     ]
    }
   ],
   "source": [
    "cmd = f'gmx editconf -f {type_na}.gro -o {type_na}_dode.gro -c -d 1.0 -bt dodecahedron'\n",
    "print(cmd)\n",
    "\n",
    "cmd = f'gmx solvate -cp {type_na}_dode.gro -cs spc216.gro -o {type_na}_solv.gro -p topol.top'\n",
    "print(cmd)"
   ]
  },
  {
   "cell_type": "code",
   "execution_count": 5,
   "metadata": {},
   "outputs": [],
   "source": [
    "#Output configuration contains 61560 atoms in 20118 residues\n",
    "#Volume                 :     625.851 (nm^3)\n",
    "#Density                :     994.031 (g/l)\n",
    "#Number of SOL molecules:  20076  "
   ]
  },
  {
   "cell_type": "markdown",
   "metadata": {},
   "source": [
    "### Part 3: Adding Ions"
   ]
  },
  {
   "cell_type": "code",
   "execution_count": 6,
   "metadata": {},
   "outputs": [
    {
     "name": "stdout",
     "output_type": "stream",
     "text": [
      "gmx grompp -f mdp/ions.mdp -c bdna+bdna_solv.gro -p topol.top -o ions.tpr\n",
      "gmx genion -s ions.tpr -o bdna+bdna_solv_ions.gro -p topol.top -pname K  -neutral -conc 0.15\n"
     ]
    }
   ],
   "source": [
    "cmd = f'gmx grompp -f mdp/ions.mdp -c {type_na}_solv.gro -p topol.top -o ions.tpr'\n",
    "print(cmd)\n",
    "\n",
    "cmd = f'gmx genion -s ions.tpr -o {type_na}_solv_ions.gro -p topol.top -pname K  -neutral -conc 0.15'\n",
    "print(cmd)"
   ]
  },
  {
   "cell_type": "code",
   "execution_count": 7,
   "metadata": {},
   "outputs": [],
   "source": [
    "# Replacing 154 solute molecules in topology file (topol.top)  by 97 K and 57 CL ions."
   ]
  },
  {
   "cell_type": "markdown",
   "metadata": {},
   "source": [
    "### Part 4: Minimization - Steep Descent"
   ]
  },
  {
   "cell_type": "code",
   "execution_count": 7,
   "metadata": {},
   "outputs": [
    {
     "name": "stdout",
     "output_type": "stream",
     "text": [
      "gmx grompp -f mdp/minim.mdp -c bdna+bdna_solv_ions.gro -p topol.top -o em1.tpr\n",
      "gmx mdrun -v -deffnm em1\n"
     ]
    }
   ],
   "source": [
    "cmd = f'gmx grompp -f mdp/minim.mdp -c {type_na}_solv_ions.gro -p topol.top -o em1.tpr'\n",
    "print(cmd)\n",
    "\n",
    "cmd = f'gmx mdrun -v -deffnm em1'\n",
    "print(cmd)"
   ]
  },
  {
   "cell_type": "code",
   "execution_count": 8,
   "metadata": {},
   "outputs": [
    {
     "name": "stdout",
     "output_type": "stream",
     "text": [
      "gmx energy -f em1.edr -o mini_sd_energy.xvg\n"
     ]
    }
   ],
   "source": [
    "cmd = f'gmx energy -f em1.edr -o mini_sd_energy.xvg'\n",
    "print(cmd)"
   ]
  },
  {
   "cell_type": "code",
   "execution_count": 9,
   "metadata": {},
   "outputs": [],
   "source": [
    "# Plot Energy vs time-step\n",
    "import numpy as np\n",
    "import matplotlib.pyplot as plt"
   ]
  },
  {
   "cell_type": "code",
   "execution_count": 10,
   "metadata": {},
   "outputs": [
    {
     "data": {
      "image/png": "[encoded data removed]",
      "text/plain": [
       "<Figure size 576x288 with 1 Axes>"
      ]
     },
     "metadata": {
      "needs_background": "light"
     },
     "output_type": "display_data"
    }
   ],
   "source": [
    "xvg_file = 'mini_sd_energy.xvg'\n",
    "data = np.genfromtxt(xvg_file, skip_header=23)\n",
    "x = data[:,0]\n",
    "y = data[:,1]\n",
    "fig, ax = plt.subplots(figsize=(8,4))\n",
    "ax.plot(x,y)\n",
    "ax.set_ylabel('Potential Energy (kJ/mol)')\n",
    "ax.set_xlabel('Time (ps)')\n",
    "plt.show()"
   ]
  },
  {
   "cell_type": "markdown",
   "metadata": {},
   "source": [
    "### Part 5: NVT1, Heating"
   ]
  },
  {
   "cell_type": "code",
   "execution_count": 4,
   "metadata": {},
   "outputs": [
    {
     "name": "stdout",
     "output_type": "stream",
     "text": [
      "annealing-npoints = 63 63\n",
      "annealing-time = 0 5.0 10.0 15.0 20.0 25.0 30.0 35.0 40.0 45.0 50.0 55.0 60.0 65.0 70.0 75.0 80.0 85.0 90.0 95.0 100.0 105.0 110.0 115.0 120.0 125.0 130.0 135.0 140.0 145.0 150.0 155.0 160.0 165.0 170.0 175.0 180.0 185.0 190.0 195.0 200.0 205.0 210.0 215.0 220.0 225.0 230.0 235.0 240.0 245.0 250.0 255.0 260.0 265.0 270.0 275.0 280.0 285.0 290.0 295.0 300.0 305.0 310.0 0 5.0 10.0 15.0 20.0 25.0 30.0 35.0 40.0 45.0 50.0 55.0 60.0 65.0 70.0 75.0 80.0 85.0 90.0 95.0 100.0 105.0 110.0 115.0 120.0 125.0 130.0 135.0 140.0 145.0 150.0 155.0 160.0 165.0 170.0 175.0 180.0 185.0 190.0 195.0 200.0 205.0 210.0 215.0 220.0 225.0 230.0 235.0 240.0 245.0 250.0 255.0 260.0 265.0 270.0 275.0 280.0 285.0 290.0 295.0 300.0 305.0 310.0\n",
      "annealing-temp = 0 5 10 15 20 25 30 35 40 45 50 55 60 65 70 75 80 85 90 95 100 105 110 115 120 125 130 135 140 145 150 155 160 165 170 175 180 185 190 195 200 205 210 215 220 225 230 235 240 245 250 255 260 265 270 275 280 285 290 295 300 305 310 0 5 10 15 20 25 30 35 40 45 50 55 60 65 70 75 80 85 90 95 100 105 110 115 120 125 130 135 140 145 150 155 160 165 170 175 180 185 190 195 200 205 210 215 220 225 230 235 240 245 250 255 260 265 270 275 280 285 290 295 300 305 310\n"
     ]
    }
   ],
   "source": [
    "step_T = 5\n",
    "ini_T = 0\n",
    "final_T = 310\n",
    "equ_steps = 2500 # 2500 steps\n",
    "stepsize = 0.002 # 2 fs\n",
    "interval = equ_steps * stepsize\n",
    "\n",
    "annealing_time = list()\n",
    "annealing_temp = list()\n",
    "\n",
    "time_count = 0\n",
    "step_accu = 0\n",
    "\n",
    "for T in range(ini_T, final_T+1, step_T):\n",
    "    #print(f'{time_count} ps, {step_accu} steps: {T}K')\n",
    "    annealing_time.append(time_count)\n",
    "    annealing_temp.append(T)\n",
    "    \n",
    "    time_count += interval\n",
    "    step_accu += equ_steps\n",
    "\n",
    "n_points = len(annealing_time)\n",
    "print(f'annealing-npoints = {n_points} {n_points}')\n",
    "\n",
    "time_str = 'annealing-time ='\n",
    "T_str = 'annealing-temp ='\n",
    "for time, T in zip(annealing_time, annealing_temp):\n",
    "    time_str = time_str + ' ' + f'{time}'\n",
    "    T_str = T_str + ' ' + f'{T}'\n",
    "for time, T in zip(annealing_time, annealing_temp):\n",
    "    time_str = time_str + ' ' + f'{time}'\n",
    "    T_str = T_str + ' ' + f'{T}'\n",
    "print(time_str)\n",
    "print(T_str)"
   ]
  },
  {
   "cell_type": "markdown",
   "metadata": {},
   "source": [
    "### Part 6: Make index file"
   ]
  },
  {
   "cell_type": "code",
   "execution_count": 11,
   "metadata": {},
   "outputs": [
    {
     "name": "stdout",
     "output_type": "stream",
     "text": [
      "gmx make_ndx -f em1.gro -o bdna+bdna.ndx\n"
     ]
    }
   ],
   "source": [
    "cmd = f'gmx make_ndx -f em1.gro -o {type_na}.ndx'\n",
    "print(cmd)"
   ]
  },
  {
   "cell_type": "markdown",
   "metadata": {},
   "source": [
    "### Part 7: Make Position restraint files"
   ]
  },
  {
   "cell_type": "code",
   "execution_count": 12,
   "metadata": {},
   "outputs": [
    {
     "name": "stdout",
     "output_type": "stream",
     "text": [
      "vim make_posre.sh\n",
      "bash make_posre.sh\n",
      "vim topol_DNA_chain_A.itp\n",
      "vim topol_DNA_chain_B.itp\n"
     ]
    }
   ],
   "source": [
    "cmd = 'vim make_posre.sh'\n",
    "print(cmd)\n",
    "cmd = 'bash make_posre.sh'\n",
    "print(cmd)\n",
    "cmd = 'vim topol_DNA_chain_A.itp'\n",
    "print(cmd)\n",
    "cmd = 'vim topol_DNA_chain_B.itp'\n",
    "print(cmd)"
   ]
  },
  {
   "cell_type": "markdown",
   "metadata": {},
   "source": [
    "### Part 8: Submit qsub"
   ]
  },
  {
   "cell_type": "code",
   "execution_count": 10,
   "metadata": {},
   "outputs": [
    {
     "name": "stdout",
     "output_type": "stream",
     "text": [
      "qsub simulate.qsub\n"
     ]
    }
   ],
   "source": [
    "cmd = 'qsub simulate.qsub'\n",
    "print(cmd)"
   ]
  },
  {
   "cell_type": "code",
   "execution_count": null,
   "metadata": {},
   "outputs": [],
   "source": []
  }
 ],
 "metadata": {
  "kernelspec": {
   "display_name": "Python 3",
   "language": "python",
   "name": "python3"
  },
  "language_info": {
   "codemirror_mode": {
    "name": "ipython",
    "version": 3
   },
   "file_extension": ".py",
   "mimetype": "text/x-python",
   "name": "python",
   "nbconvert_exporter": "python",
   "pygments_lexer": "ipython3",
   "version": "3.8.5"
  }
 },
 "nbformat": 4,
 "nbformat_minor": 4
}
