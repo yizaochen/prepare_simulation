{
 "cells": [
  {
   "cell_type": "markdown",
   "metadata": {},
   "source": [
    "### Note:\n",
    "md0.xtc: 0_100ns,    md1.xtc: 100_200ns, md2.xtc: 200_300ns                                                       \n",
    "md3.xtc: 300_400ns,  md4.xtc: 400_500ns, md5.xtc: 500_600ns                                                       \n",
    "md6.xtc: 600_700ns,  md7.xtc: 700_800ns, md8.xtc: 800_900ns                                                       \n",
    "md9.xtc: 900_1000ns  "
   ]
  },
  {
   "cell_type": "code",
   "execution_count": 1,
   "metadata": {},
   "outputs": [],
   "source": [
    "from os import path, system, mkdir, rename\n",
    "from simulation import process_pbc\n",
    "gmx = '/usr/bin/gmx'\n",
    "rootfolder = '/home/ytcdata/simulation'"
   ]
  },
  {
   "cell_type": "markdown",
   "metadata": {},
   "source": [
    "### Part 1: Initialize"
   ]
  },
  {
   "cell_type": "code",
   "execution_count": 24,
   "metadata": {},
   "outputs": [],
   "source": [
    "host = 'tat_3_21mer'\n",
    "type_na = 'bdna+bdna'\n",
    "system_folder = path.join(rootfolder, host, type_na)"
   ]
  },
  {
   "cell_type": "markdown",
   "metadata": {},
   "source": [
    "### Part 2: Make prerequisite folders"
   ]
  },
  {
   "cell_type": "code",
   "execution_count": 3,
   "metadata": {},
   "outputs": [],
   "source": [
    "for folder in ['order_xtc', 'data']:\n",
    "    target = path.join(system_folder, folder)\n",
    "    if not path.exists(target):\n",
    "        mkdir(target)\n",
    "        print(f'mkdir {target}')\n",
    "\n",
    "for folder in ['fittrj', 'gro', 'raw', 'roughtrj']:\n",
    "    target = path.join(system_folder, 'data', folder)\n",
    "    if not path.exists(target):\n",
    "        mkdir(target)\n",
    "        print(f'mkdir {target}')\n",
    "        \n",
    "for folder in ['1000']:\n",
    "    target = path.join(system_folder, 'data', 'roughtrj', folder)\n",
    "    if not path.exists(target):\n",
    "        mkdir(target)\n",
    "        print(f'mkdir {target}')"
   ]
  },
  {
   "cell_type": "markdown",
   "metadata": {},
   "source": [
    "### Part 3: Move all md*.xtc to order_xtc folder"
   ]
  },
  {
   "cell_type": "code",
   "execution_count": 4,
   "metadata": {},
   "outputs": [
    {
     "name": "stdout",
     "output_type": "stream",
     "text": [
      "/home/ytcdata/simulation/tat_21mer/bdna+bdna/md10.xtc do not exist!\n",
      "/home/ytcdata/simulation/tat_21mer/bdna+bdna/md11.xtc do not exist!\n",
      "/home/ytcdata/simulation/tat_21mer/bdna+bdna/md12.xtc do not exist!\n",
      "/home/ytcdata/simulation/tat_21mer/bdna+bdna/md13.xtc do not exist!\n",
      "/home/ytcdata/simulation/tat_21mer/bdna+bdna/md14.xtc do not exist!\n",
      "/home/ytcdata/simulation/tat_21mer/bdna+bdna/md15.xtc do not exist!\n",
      "/home/ytcdata/simulation/tat_21mer/bdna+bdna/md16.xtc do not exist!\n",
      "/home/ytcdata/simulation/tat_21mer/bdna+bdna/md17.xtc do not exist!\n",
      "/home/ytcdata/simulation/tat_21mer/bdna+bdna/md18.xtc do not exist!\n",
      "/home/ytcdata/simulation/tat_21mer/bdna+bdna/md19.xtc do not exist!\n",
      "/home/ytcdata/simulation/tat_21mer/bdna+bdna/md20.xtc do not exist!\n",
      "/home/ytcdata/simulation/tat_21mer/bdna+bdna/md21.xtc do not exist!\n",
      "/home/ytcdata/simulation/tat_21mer/bdna+bdna/md22.xtc do not exist!\n",
      "/home/ytcdata/simulation/tat_21mer/bdna+bdna/md23.xtc do not exist!\n",
      "/home/ytcdata/simulation/tat_21mer/bdna+bdna/md24.xtc do not exist!\n",
      "/home/ytcdata/simulation/tat_21mer/bdna+bdna/md25.xtc do not exist!\n",
      "/home/ytcdata/simulation/tat_21mer/bdna+bdna/md26.xtc do not exist!\n",
      "/home/ytcdata/simulation/tat_21mer/bdna+bdna/md27.xtc do not exist!\n",
      "/home/ytcdata/simulation/tat_21mer/bdna+bdna/md28.xtc do not exist!\n",
      "/home/ytcdata/simulation/tat_21mer/bdna+bdna/md29.xtc do not exist!\n",
      "/home/ytcdata/simulation/tat_21mer/bdna+bdna/md30.xtc do not exist!\n",
      "/home/ytcdata/simulation/tat_21mer/bdna+bdna/md31.xtc do not exist!\n",
      "/home/ytcdata/simulation/tat_21mer/bdna+bdna/md32.xtc do not exist!\n",
      "/home/ytcdata/simulation/tat_21mer/bdna+bdna/md33.xtc do not exist!\n",
      "/home/ytcdata/simulation/tat_21mer/bdna+bdna/md34.xtc do not exist!\n",
      "/home/ytcdata/simulation/tat_21mer/bdna+bdna/md35.xtc do not exist!\n",
      "/home/ytcdata/simulation/tat_21mer/bdna+bdna/md36.xtc do not exist!\n",
      "/home/ytcdata/simulation/tat_21mer/bdna+bdna/md37.xtc do not exist!\n",
      "/home/ytcdata/simulation/tat_21mer/bdna+bdna/md38.xtc do not exist!\n",
      "/home/ytcdata/simulation/tat_21mer/bdna+bdna/md39.xtc do not exist!\n",
      "/home/ytcdata/simulation/tat_21mer/bdna+bdna/md40.xtc do not exist!\n",
      "/home/ytcdata/simulation/tat_21mer/bdna+bdna/md41.xtc do not exist!\n",
      "/home/ytcdata/simulation/tat_21mer/bdna+bdna/md42.xtc do not exist!\n",
      "/home/ytcdata/simulation/tat_21mer/bdna+bdna/md43.xtc do not exist!\n",
      "/home/ytcdata/simulation/tat_21mer/bdna+bdna/md44.xtc do not exist!\n",
      "/home/ytcdata/simulation/tat_21mer/bdna+bdna/md45.xtc do not exist!\n",
      "/home/ytcdata/simulation/tat_21mer/bdna+bdna/md46.xtc do not exist!\n",
      "/home/ytcdata/simulation/tat_21mer/bdna+bdna/md47.xtc do not exist!\n",
      "/home/ytcdata/simulation/tat_21mer/bdna+bdna/md48.xtc do not exist!\n",
      "/home/ytcdata/simulation/tat_21mer/bdna+bdna/md49.xtc do not exist!\n"
     ]
    }
   ],
   "source": [
    "start_num = 10  # default: 0\n",
    "end_num = 49    # default: 9\n",
    "\n",
    "for i in range(start_num, end_num+1):                                                                                \n",
    "    f_name = 'md{0}.xtc'.format(str(i))                                                                                \n",
    "    old_f = path.join(system_folder, f_name)                                                                                 \n",
    "    new_f = path.join(system_folder, 'order_xtc', f_name)\n",
    "    if path.exists(old_f):\n",
    "        rename(old_f, new_f)\n",
    "        print(f'mv {old_f} {new_f}')\n",
    "    else:\n",
    "        print(f'{old_f} do not exist!')"
   ]
  },
  {
   "cell_type": "markdown",
   "metadata": {},
   "source": [
    "### Part 4: Make **.npt4.nopbc.gro"
   ]
  },
  {
   "cell_type": "code",
   "execution_count": 5,
   "metadata": {},
   "outputs": [
    {
     "name": "stdout",
     "output_type": "stream",
     "text": [
      "/usr/bin/gmx editconf -f /home/ytcdata/simulation/tat_21mer/bdna+bdna/npt4.gro -o /home/ytcdata/simulation/tat_21mer/bdna+bdna/npt4.nopbc.gro -pbc\n",
      "Check by...\n",
      "vmd -gro /home/ytcdata/simulation/tat_21mer/bdna+bdna/npt4.nopbc.gro\n"
     ]
    }
   ],
   "source": [
    "npt4gro = path.join(system_folder, 'npt4.gro')\n",
    "nopbc_npt4 = path.join(system_folder, 'npt4.nopbc.gro')\n",
    "\n",
    "# Method 1\n",
    "cmd = f'{gmx} editconf -f {npt4gro} -o {nopbc_npt4} -pbc'\n",
    "print(cmd)\n",
    "#system(cmd)\n",
    "\n",
    "# Method 2\n",
    "refgro = path.join(system_folder, f'{type_na}_solv_ions.gro')\n",
    "#cmd = f'{gmx} trjconv -s {refgro} -f {npt4gro} -o {nopbc_npt4}'\n",
    "#print(cmd)\n",
    "#system(cmd)\n",
    "\n",
    "print('Check by...')\n",
    "print(f'vmd -gro {nopbc_npt4}')"
   ]
  },
  {
   "cell_type": "code",
   "execution_count": 17,
   "metadata": {},
   "outputs": [],
   "source": [
    "old_f = path.join(system_folder, 'npt4.nopbc.gro')\n",
    "new_f = path.join(system_folder, 'order_xtc', 'npt4.nopbc.gro')\n",
    "\n",
    "if path.exists(old_f):\n",
    "    rename(old_f, new_f)\n",
    "    print(f'mv {old_f} {new_f}')"
   ]
  },
  {
   "cell_type": "markdown",
   "metadata": {},
   "source": [
    "### Part 5: Remove PBC and generate all gro file"
   ]
  },
  {
   "cell_type": "code",
   "execution_count": 33,
   "metadata": {},
   "outputs": [],
   "source": [
    "start = 0   # default: 0                                                                                                        \n",
    "end = 49     # default: 9"
   ]
  },
  {
   "cell_type": "code",
   "execution_count": 27,
   "metadata": {},
   "outputs": [
    {
     "name": "stdout",
     "output_type": "stream",
     "text": [
      "echo 0 | /usr/bin/gmx trjconv -s /home/ytcdata/simulation/tat_3_21mer/bdna+bdna/order_xtc/md9.nopbc.gro -f /home/ytcdata/simulation/tat_3_21mer/bdna+bdna/order_xtc/md10.xtc -pbc nojump -o /home/ytcdata/simulation/tat_3_21mer/bdna+bdna/order_xtc/md10.nopbc.gro -dump 1100000\n",
      "echo 0 | /usr/bin/gmx trjconv -s /home/ytcdata/simulation/tat_3_21mer/bdna+bdna/order_xtc/md10.nopbc.gro -f /home/ytcdata/simulation/tat_3_21mer/bdna+bdna/order_xtc/md11.xtc -pbc nojump -o /home/ytcdata/simulation/tat_3_21mer/bdna+bdna/order_xtc/md11.nopbc.gro -dump 1200000\n",
      "echo 0 | /usr/bin/gmx trjconv -s /home/ytcdata/simulation/tat_3_21mer/bdna+bdna/order_xtc/md11.nopbc.gro -f /home/ytcdata/simulation/tat_3_21mer/bdna+bdna/order_xtc/md12.xtc -pbc nojump -o /home/ytcdata/simulation/tat_3_21mer/bdna+bdna/order_xtc/md12.nopbc.gro -dump 1300000\n",
      "echo 0 | /usr/bin/gmx trjconv -s /home/ytcdata/simulation/tat_3_21mer/bdna+bdna/order_xtc/md12.nopbc.gro -f /home/ytcdata/simulation/tat_3_21mer/bdna+bdna/order_xtc/md13.xtc -pbc nojump -o /home/ytcdata/simulation/tat_3_21mer/bdna+bdna/order_xtc/md13.nopbc.gro -dump 1400000\n",
      "echo 0 | /usr/bin/gmx trjconv -s /home/ytcdata/simulation/tat_3_21mer/bdna+bdna/order_xtc/md13.nopbc.gro -f /home/ytcdata/simulation/tat_3_21mer/bdna+bdna/order_xtc/md14.xtc -pbc nojump -o /home/ytcdata/simulation/tat_3_21mer/bdna+bdna/order_xtc/md14.nopbc.gro -dump 1500000\n",
      "echo 0 | /usr/bin/gmx trjconv -s /home/ytcdata/simulation/tat_3_21mer/bdna+bdna/order_xtc/md14.nopbc.gro -f /home/ytcdata/simulation/tat_3_21mer/bdna+bdna/order_xtc/md15.xtc -pbc nojump -o /home/ytcdata/simulation/tat_3_21mer/bdna+bdna/order_xtc/md15.nopbc.gro -dump 1600000\n",
      "echo 0 | /usr/bin/gmx trjconv -s /home/ytcdata/simulation/tat_3_21mer/bdna+bdna/order_xtc/md15.nopbc.gro -f /home/ytcdata/simulation/tat_3_21mer/bdna+bdna/order_xtc/md16.xtc -pbc nojump -o /home/ytcdata/simulation/tat_3_21mer/bdna+bdna/order_xtc/md16.nopbc.gro -dump 1700000\n",
      "echo 0 | /usr/bin/gmx trjconv -s /home/ytcdata/simulation/tat_3_21mer/bdna+bdna/order_xtc/md16.nopbc.gro -f /home/ytcdata/simulation/tat_3_21mer/bdna+bdna/order_xtc/md17.xtc -pbc nojump -o /home/ytcdata/simulation/tat_3_21mer/bdna+bdna/order_xtc/md17.nopbc.gro -dump 1800000\n",
      "echo 0 | /usr/bin/gmx trjconv -s /home/ytcdata/simulation/tat_3_21mer/bdna+bdna/order_xtc/md17.nopbc.gro -f /home/ytcdata/simulation/tat_3_21mer/bdna+bdna/order_xtc/md18.xtc -pbc nojump -o /home/ytcdata/simulation/tat_3_21mer/bdna+bdna/order_xtc/md18.nopbc.gro -dump 1900000\n",
      "echo 0 | /usr/bin/gmx trjconv -s /home/ytcdata/simulation/tat_3_21mer/bdna+bdna/order_xtc/md18.nopbc.gro -f /home/ytcdata/simulation/tat_3_21mer/bdna+bdna/order_xtc/md19.xtc -pbc nojump -o /home/ytcdata/simulation/tat_3_21mer/bdna+bdna/order_xtc/md19.nopbc.gro -dump 2000000\n",
      "echo 0 | /usr/bin/gmx trjconv -s /home/ytcdata/simulation/tat_3_21mer/bdna+bdna/order_xtc/md19.nopbc.gro -f /home/ytcdata/simulation/tat_3_21mer/bdna+bdna/order_xtc/md20.xtc -pbc nojump -o /home/ytcdata/simulation/tat_3_21mer/bdna+bdna/order_xtc/md20.nopbc.gro -dump 2100000\n",
      "echo 0 | /usr/bin/gmx trjconv -s /home/ytcdata/simulation/tat_3_21mer/bdna+bdna/order_xtc/md20.nopbc.gro -f /home/ytcdata/simulation/tat_3_21mer/bdna+bdna/order_xtc/md21.xtc -pbc nojump -o /home/ytcdata/simulation/tat_3_21mer/bdna+bdna/order_xtc/md21.nopbc.gro -dump 2200000\n",
      "echo 0 | /usr/bin/gmx trjconv -s /home/ytcdata/simulation/tat_3_21mer/bdna+bdna/order_xtc/md21.nopbc.gro -f /home/ytcdata/simulation/tat_3_21mer/bdna+bdna/order_xtc/md22.xtc -pbc nojump -o /home/ytcdata/simulation/tat_3_21mer/bdna+bdna/order_xtc/md22.nopbc.gro -dump 2300000\n",
      "echo 0 | /usr/bin/gmx trjconv -s /home/ytcdata/simulation/tat_3_21mer/bdna+bdna/order_xtc/md22.nopbc.gro -f /home/ytcdata/simulation/tat_3_21mer/bdna+bdna/order_xtc/md23.xtc -pbc nojump -o /home/ytcdata/simulation/tat_3_21mer/bdna+bdna/order_xtc/md23.nopbc.gro -dump 2400000\n",
      "echo 0 | /usr/bin/gmx trjconv -s /home/ytcdata/simulation/tat_3_21mer/bdna+bdna/order_xtc/md23.nopbc.gro -f /home/ytcdata/simulation/tat_3_21mer/bdna+bdna/order_xtc/md24.xtc -pbc nojump -o /home/ytcdata/simulation/tat_3_21mer/bdna+bdna/order_xtc/md24.nopbc.gro -dump 2500000\n",
      "echo 0 | /usr/bin/gmx trjconv -s /home/ytcdata/simulation/tat_3_21mer/bdna+bdna/order_xtc/md24.nopbc.gro -f /home/ytcdata/simulation/tat_3_21mer/bdna+bdna/order_xtc/md25.xtc -pbc nojump -o /home/ytcdata/simulation/tat_3_21mer/bdna+bdna/order_xtc/md25.nopbc.gro -dump 2600000\n",
      "echo 0 | /usr/bin/gmx trjconv -s /home/ytcdata/simulation/tat_3_21mer/bdna+bdna/order_xtc/md25.nopbc.gro -f /home/ytcdata/simulation/tat_3_21mer/bdna+bdna/order_xtc/md26.xtc -pbc nojump -o /home/ytcdata/simulation/tat_3_21mer/bdna+bdna/order_xtc/md26.nopbc.gro -dump 2700000\n",
      "echo 0 | /usr/bin/gmx trjconv -s /home/ytcdata/simulation/tat_3_21mer/bdna+bdna/order_xtc/md26.nopbc.gro -f /home/ytcdata/simulation/tat_3_21mer/bdna+bdna/order_xtc/md27.xtc -pbc nojump -o /home/ytcdata/simulation/tat_3_21mer/bdna+bdna/order_xtc/md27.nopbc.gro -dump 2800000\n",
      "echo 0 | /usr/bin/gmx trjconv -s /home/ytcdata/simulation/tat_3_21mer/bdna+bdna/order_xtc/md27.nopbc.gro -f /home/ytcdata/simulation/tat_3_21mer/bdna+bdna/order_xtc/md28.xtc -pbc nojump -o /home/ytcdata/simulation/tat_3_21mer/bdna+bdna/order_xtc/md28.nopbc.gro -dump 2900000\n",
      "echo 0 | /usr/bin/gmx trjconv -s /home/ytcdata/simulation/tat_3_21mer/bdna+bdna/order_xtc/md28.nopbc.gro -f /home/ytcdata/simulation/tat_3_21mer/bdna+bdna/order_xtc/md29.xtc -pbc nojump -o /home/ytcdata/simulation/tat_3_21mer/bdna+bdna/order_xtc/md29.nopbc.gro -dump 3000000\n",
      "echo 0 | /usr/bin/gmx trjconv -s /home/ytcdata/simulation/tat_3_21mer/bdna+bdna/order_xtc/md29.nopbc.gro -f /home/ytcdata/simulation/tat_3_21mer/bdna+bdna/order_xtc/md30.xtc -pbc nojump -o /home/ytcdata/simulation/tat_3_21mer/bdna+bdna/order_xtc/md30.nopbc.gro -dump 3100000\n",
      "echo 0 | /usr/bin/gmx trjconv -s /home/ytcdata/simulation/tat_3_21mer/bdna+bdna/order_xtc/md30.nopbc.gro -f /home/ytcdata/simulation/tat_3_21mer/bdna+bdna/order_xtc/md31.xtc -pbc nojump -o /home/ytcdata/simulation/tat_3_21mer/bdna+bdna/order_xtc/md31.nopbc.gro -dump 3200000\n",
      "echo 0 | /usr/bin/gmx trjconv -s /home/ytcdata/simulation/tat_3_21mer/bdna+bdna/order_xtc/md31.nopbc.gro -f /home/ytcdata/simulation/tat_3_21mer/bdna+bdna/order_xtc/md32.xtc -pbc nojump -o /home/ytcdata/simulation/tat_3_21mer/bdna+bdna/order_xtc/md32.nopbc.gro -dump 3300000\n",
      "echo 0 | /usr/bin/gmx trjconv -s /home/ytcdata/simulation/tat_3_21mer/bdna+bdna/order_xtc/md32.nopbc.gro -f /home/ytcdata/simulation/tat_3_21mer/bdna+bdna/order_xtc/md33.xtc -pbc nojump -o /home/ytcdata/simulation/tat_3_21mer/bdna+bdna/order_xtc/md33.nopbc.gro -dump 3400000\n",
      "echo 0 | /usr/bin/gmx trjconv -s /home/ytcdata/simulation/tat_3_21mer/bdna+bdna/order_xtc/md33.nopbc.gro -f /home/ytcdata/simulation/tat_3_21mer/bdna+bdna/order_xtc/md34.xtc -pbc nojump -o /home/ytcdata/simulation/tat_3_21mer/bdna+bdna/order_xtc/md34.nopbc.gro -dump 3500000\n",
      "echo 0 | /usr/bin/gmx trjconv -s /home/ytcdata/simulation/tat_3_21mer/bdna+bdna/order_xtc/md34.nopbc.gro -f /home/ytcdata/simulation/tat_3_21mer/bdna+bdna/order_xtc/md35.xtc -pbc nojump -o /home/ytcdata/simulation/tat_3_21mer/bdna+bdna/order_xtc/md35.nopbc.gro -dump 3600000\n",
      "echo 0 | /usr/bin/gmx trjconv -s /home/ytcdata/simulation/tat_3_21mer/bdna+bdna/order_xtc/md35.nopbc.gro -f /home/ytcdata/simulation/tat_3_21mer/bdna+bdna/order_xtc/md36.xtc -pbc nojump -o /home/ytcdata/simulation/tat_3_21mer/bdna+bdna/order_xtc/md36.nopbc.gro -dump 3700000\n",
      "echo 0 | /usr/bin/gmx trjconv -s /home/ytcdata/simulation/tat_3_21mer/bdna+bdna/order_xtc/md36.nopbc.gro -f /home/ytcdata/simulation/tat_3_21mer/bdna+bdna/order_xtc/md37.xtc -pbc nojump -o /home/ytcdata/simulation/tat_3_21mer/bdna+bdna/order_xtc/md37.nopbc.gro -dump 3800000\n",
      "echo 0 | /usr/bin/gmx trjconv -s /home/ytcdata/simulation/tat_3_21mer/bdna+bdna/order_xtc/md37.nopbc.gro -f /home/ytcdata/simulation/tat_3_21mer/bdna+bdna/order_xtc/md38.xtc -pbc nojump -o /home/ytcdata/simulation/tat_3_21mer/bdna+bdna/order_xtc/md38.nopbc.gro -dump 3900000\n",
      "echo 0 | /usr/bin/gmx trjconv -s /home/ytcdata/simulation/tat_3_21mer/bdna+bdna/order_xtc/md38.nopbc.gro -f /home/ytcdata/simulation/tat_3_21mer/bdna+bdna/order_xtc/md39.xtc -pbc nojump -o /home/ytcdata/simulation/tat_3_21mer/bdna+bdna/order_xtc/md39.nopbc.gro -dump 4000000\n",
      "echo 0 | /usr/bin/gmx trjconv -s /home/ytcdata/simulation/tat_3_21mer/bdna+bdna/order_xtc/md39.nopbc.gro -f /home/ytcdata/simulation/tat_3_21mer/bdna+bdna/order_xtc/md40.xtc -pbc nojump -o /home/ytcdata/simulation/tat_3_21mer/bdna+bdna/order_xtc/md40.nopbc.gro -dump 4100000\n",
      "echo 0 | /usr/bin/gmx trjconv -s /home/ytcdata/simulation/tat_3_21mer/bdna+bdna/order_xtc/md40.nopbc.gro -f /home/ytcdata/simulation/tat_3_21mer/bdna+bdna/order_xtc/md41.xtc -pbc nojump -o /home/ytcdata/simulation/tat_3_21mer/bdna+bdna/order_xtc/md41.nopbc.gro -dump 4200000\n",
      "echo 0 | /usr/bin/gmx trjconv -s /home/ytcdata/simulation/tat_3_21mer/bdna+bdna/order_xtc/md41.nopbc.gro -f /home/ytcdata/simulation/tat_3_21mer/bdna+bdna/order_xtc/md42.xtc -pbc nojump -o /home/ytcdata/simulation/tat_3_21mer/bdna+bdna/order_xtc/md42.nopbc.gro -dump 4300000\n",
      "echo 0 | /usr/bin/gmx trjconv -s /home/ytcdata/simulation/tat_3_21mer/bdna+bdna/order_xtc/md42.nopbc.gro -f /home/ytcdata/simulation/tat_3_21mer/bdna+bdna/order_xtc/md43.xtc -pbc nojump -o /home/ytcdata/simulation/tat_3_21mer/bdna+bdna/order_xtc/md43.nopbc.gro -dump 4400000\n",
      "echo 0 | /usr/bin/gmx trjconv -s /home/ytcdata/simulation/tat_3_21mer/bdna+bdna/order_xtc/md43.nopbc.gro -f /home/ytcdata/simulation/tat_3_21mer/bdna+bdna/order_xtc/md44.xtc -pbc nojump -o /home/ytcdata/simulation/tat_3_21mer/bdna+bdna/order_xtc/md44.nopbc.gro -dump 4500000\n",
      "echo 0 | /usr/bin/gmx trjconv -s /home/ytcdata/simulation/tat_3_21mer/bdna+bdna/order_xtc/md44.nopbc.gro -f /home/ytcdata/simulation/tat_3_21mer/bdna+bdna/order_xtc/md45.xtc -pbc nojump -o /home/ytcdata/simulation/tat_3_21mer/bdna+bdna/order_xtc/md45.nopbc.gro -dump 4600000\n",
      "echo 0 | /usr/bin/gmx trjconv -s /home/ytcdata/simulation/tat_3_21mer/bdna+bdna/order_xtc/md45.nopbc.gro -f /home/ytcdata/simulation/tat_3_21mer/bdna+bdna/order_xtc/md46.xtc -pbc nojump -o /home/ytcdata/simulation/tat_3_21mer/bdna+bdna/order_xtc/md46.nopbc.gro -dump 4700000\n",
      "echo 0 | /usr/bin/gmx trjconv -s /home/ytcdata/simulation/tat_3_21mer/bdna+bdna/order_xtc/md46.nopbc.gro -f /home/ytcdata/simulation/tat_3_21mer/bdna+bdna/order_xtc/md47.xtc -pbc nojump -o /home/ytcdata/simulation/tat_3_21mer/bdna+bdna/order_xtc/md47.nopbc.gro -dump 4800000\n",
      "echo 0 | /usr/bin/gmx trjconv -s /home/ytcdata/simulation/tat_3_21mer/bdna+bdna/order_xtc/md47.nopbc.gro -f /home/ytcdata/simulation/tat_3_21mer/bdna+bdna/order_xtc/md48.xtc -pbc nojump -o /home/ytcdata/simulation/tat_3_21mer/bdna+bdna/order_xtc/md48.nopbc.gro -dump 4900000\n",
      "echo 0 | /usr/bin/gmx trjconv -s /home/ytcdata/simulation/tat_3_21mer/bdna+bdna/order_xtc/md48.nopbc.gro -f /home/ytcdata/simulation/tat_3_21mer/bdna+bdna/order_xtc/md49.xtc -pbc nojump -o /home/ytcdata/simulation/tat_3_21mer/bdna+bdna/order_xtc/md49.nopbc.gro -dump 5000000\n"
     ]
    }
   ],
   "source": [
    "for mdnum in range(start, end+1): \n",
    "    process_pbc.process_nopbcgro(gmx, system_folder, mdnum)"
   ]
  },
  {
   "cell_type": "markdown",
   "metadata": {},
   "source": [
    "### Part 6: Process xtc using trjconv nojump, and only output nucleic acids"
   ]
  },
  {
   "cell_type": "code",
   "execution_count": 28,
   "metadata": {},
   "outputs": [
    {
     "name": "stdout",
     "output_type": "stream",
     "text": [
      "/usr/bin/gmx make_ndx -f /home/ytcdata/simulation/tat_3_21mer/bdna+bdna/em2.gro -o /home/ytcdata/simulation/tat_3_21mer/bdna+bdna/ndx/bdna+bdna.ndx -n /home/ytcdata/simulation/tat_3_21mer/bdna+bdna/ndx/bdna+bdna.ndx\n"
     ]
    }
   ],
   "source": [
    "# Check atom group number by make_ndx\n",
    "em2gro = path.join(system_folder, 'em2.gro')\n",
    "ndxfile = path.join(system_folder, 'ndx', f'{type_na}.ndx')\n",
    "testndx = path.join(system_folder, 'test.ndx')\n",
    "\n",
    "cmd = f'{gmx} make_ndx -f {em2gro} -o {ndxfile} -n {ndxfile}'\n",
    "print(cmd)"
   ]
  },
  {
   "cell_type": "code",
   "execution_count": 29,
   "metadata": {},
   "outputs": [
    {
     "name": "stdout",
     "output_type": "stream",
     "text": [
      "echo 1 1| /usr/bin/gmx trjconv -s /home/ytcdata/simulation/tat_3_21mer/bdna+bdna/order_xtc/md9.nopbc.gro -f /home/ytcdata/simulation/tat_3_21mer/bdna+bdna/order_xtc/md10.xtc -pbc nojump -o /home/ytcdata/simulation/tat_3_21mer/bdna+bdna/data/raw/bdna+bdna.nopbc.11.xtc -center -n /home/ytcdata/simulation/tat_3_21mer/bdna+bdna/ndx/bdna+bdna.ndx\n",
      "echo 1 1| /usr/bin/gmx trjconv -s /home/ytcdata/simulation/tat_3_21mer/bdna+bdna/order_xtc/md10.nopbc.gro -f /home/ytcdata/simulation/tat_3_21mer/bdna+bdna/order_xtc/md11.xtc -pbc nojump -o /home/ytcdata/simulation/tat_3_21mer/bdna+bdna/data/raw/bdna+bdna.nopbc.12.xtc -center -n /home/ytcdata/simulation/tat_3_21mer/bdna+bdna/ndx/bdna+bdna.ndx\n",
      "echo 1 1| /usr/bin/gmx trjconv -s /home/ytcdata/simulation/tat_3_21mer/bdna+bdna/order_xtc/md11.nopbc.gro -f /home/ytcdata/simulation/tat_3_21mer/bdna+bdna/order_xtc/md12.xtc -pbc nojump -o /home/ytcdata/simulation/tat_3_21mer/bdna+bdna/data/raw/bdna+bdna.nopbc.13.xtc -center -n /home/ytcdata/simulation/tat_3_21mer/bdna+bdna/ndx/bdna+bdna.ndx\n",
      "echo 1 1| /usr/bin/gmx trjconv -s /home/ytcdata/simulation/tat_3_21mer/bdna+bdna/order_xtc/md12.nopbc.gro -f /home/ytcdata/simulation/tat_3_21mer/bdna+bdna/order_xtc/md13.xtc -pbc nojump -o /home/ytcdata/simulation/tat_3_21mer/bdna+bdna/data/raw/bdna+bdna.nopbc.14.xtc -center -n /home/ytcdata/simulation/tat_3_21mer/bdna+bdna/ndx/bdna+bdna.ndx\n",
      "echo 1 1| /usr/bin/gmx trjconv -s /home/ytcdata/simulation/tat_3_21mer/bdna+bdna/order_xtc/md13.nopbc.gro -f /home/ytcdata/simulation/tat_3_21mer/bdna+bdna/order_xtc/md14.xtc -pbc nojump -o /home/ytcdata/simulation/tat_3_21mer/bdna+bdna/data/raw/bdna+bdna.nopbc.15.xtc -center -n /home/ytcdata/simulation/tat_3_21mer/bdna+bdna/ndx/bdna+bdna.ndx\n",
      "echo 1 1| /usr/bin/gmx trjconv -s /home/ytcdata/simulation/tat_3_21mer/bdna+bdna/order_xtc/md14.nopbc.gro -f /home/ytcdata/simulation/tat_3_21mer/bdna+bdna/order_xtc/md15.xtc -pbc nojump -o /home/ytcdata/simulation/tat_3_21mer/bdna+bdna/data/raw/bdna+bdna.nopbc.16.xtc -center -n /home/ytcdata/simulation/tat_3_21mer/bdna+bdna/ndx/bdna+bdna.ndx\n",
      "echo 1 1| /usr/bin/gmx trjconv -s /home/ytcdata/simulation/tat_3_21mer/bdna+bdna/order_xtc/md15.nopbc.gro -f /home/ytcdata/simulation/tat_3_21mer/bdna+bdna/order_xtc/md16.xtc -pbc nojump -o /home/ytcdata/simulation/tat_3_21mer/bdna+bdna/data/raw/bdna+bdna.nopbc.17.xtc -center -n /home/ytcdata/simulation/tat_3_21mer/bdna+bdna/ndx/bdna+bdna.ndx\n",
      "echo 1 1| /usr/bin/gmx trjconv -s /home/ytcdata/simulation/tat_3_21mer/bdna+bdna/order_xtc/md16.nopbc.gro -f /home/ytcdata/simulation/tat_3_21mer/bdna+bdna/order_xtc/md17.xtc -pbc nojump -o /home/ytcdata/simulation/tat_3_21mer/bdna+bdna/data/raw/bdna+bdna.nopbc.18.xtc -center -n /home/ytcdata/simulation/tat_3_21mer/bdna+bdna/ndx/bdna+bdna.ndx\n",
      "echo 1 1| /usr/bin/gmx trjconv -s /home/ytcdata/simulation/tat_3_21mer/bdna+bdna/order_xtc/md17.nopbc.gro -f /home/ytcdata/simulation/tat_3_21mer/bdna+bdna/order_xtc/md18.xtc -pbc nojump -o /home/ytcdata/simulation/tat_3_21mer/bdna+bdna/data/raw/bdna+bdna.nopbc.19.xtc -center -n /home/ytcdata/simulation/tat_3_21mer/bdna+bdna/ndx/bdna+bdna.ndx\n",
      "echo 1 1| /usr/bin/gmx trjconv -s /home/ytcdata/simulation/tat_3_21mer/bdna+bdna/order_xtc/md18.nopbc.gro -f /home/ytcdata/simulation/tat_3_21mer/bdna+bdna/order_xtc/md19.xtc -pbc nojump -o /home/ytcdata/simulation/tat_3_21mer/bdna+bdna/data/raw/bdna+bdna.nopbc.20.xtc -center -n /home/ytcdata/simulation/tat_3_21mer/bdna+bdna/ndx/bdna+bdna.ndx\n",
      "echo 1 1| /usr/bin/gmx trjconv -s /home/ytcdata/simulation/tat_3_21mer/bdna+bdna/order_xtc/md19.nopbc.gro -f /home/ytcdata/simulation/tat_3_21mer/bdna+bdna/order_xtc/md20.xtc -pbc nojump -o /home/ytcdata/simulation/tat_3_21mer/bdna+bdna/data/raw/bdna+bdna.nopbc.21.xtc -center -n /home/ytcdata/simulation/tat_3_21mer/bdna+bdna/ndx/bdna+bdna.ndx\n",
      "echo 1 1| /usr/bin/gmx trjconv -s /home/ytcdata/simulation/tat_3_21mer/bdna+bdna/order_xtc/md20.nopbc.gro -f /home/ytcdata/simulation/tat_3_21mer/bdna+bdna/order_xtc/md21.xtc -pbc nojump -o /home/ytcdata/simulation/tat_3_21mer/bdna+bdna/data/raw/bdna+bdna.nopbc.22.xtc -center -n /home/ytcdata/simulation/tat_3_21mer/bdna+bdna/ndx/bdna+bdna.ndx\n",
      "echo 1 1| /usr/bin/gmx trjconv -s /home/ytcdata/simulation/tat_3_21mer/bdna+bdna/order_xtc/md21.nopbc.gro -f /home/ytcdata/simulation/tat_3_21mer/bdna+bdna/order_xtc/md22.xtc -pbc nojump -o /home/ytcdata/simulation/tat_3_21mer/bdna+bdna/data/raw/bdna+bdna.nopbc.23.xtc -center -n /home/ytcdata/simulation/tat_3_21mer/bdna+bdna/ndx/bdna+bdna.ndx\n",
      "echo 1 1| /usr/bin/gmx trjconv -s /home/ytcdata/simulation/tat_3_21mer/bdna+bdna/order_xtc/md22.nopbc.gro -f /home/ytcdata/simulation/tat_3_21mer/bdna+bdna/order_xtc/md23.xtc -pbc nojump -o /home/ytcdata/simulation/tat_3_21mer/bdna+bdna/data/raw/bdna+bdna.nopbc.24.xtc -center -n /home/ytcdata/simulation/tat_3_21mer/bdna+bdna/ndx/bdna+bdna.ndx\n",
      "echo 1 1| /usr/bin/gmx trjconv -s /home/ytcdata/simulation/tat_3_21mer/bdna+bdna/order_xtc/md23.nopbc.gro -f /home/ytcdata/simulation/tat_3_21mer/bdna+bdna/order_xtc/md24.xtc -pbc nojump -o /home/ytcdata/simulation/tat_3_21mer/bdna+bdna/data/raw/bdna+bdna.nopbc.25.xtc -center -n /home/ytcdata/simulation/tat_3_21mer/bdna+bdna/ndx/bdna+bdna.ndx\n",
      "echo 1 1| /usr/bin/gmx trjconv -s /home/ytcdata/simulation/tat_3_21mer/bdna+bdna/order_xtc/md24.nopbc.gro -f /home/ytcdata/simulation/tat_3_21mer/bdna+bdna/order_xtc/md25.xtc -pbc nojump -o /home/ytcdata/simulation/tat_3_21mer/bdna+bdna/data/raw/bdna+bdna.nopbc.26.xtc -center -n /home/ytcdata/simulation/tat_3_21mer/bdna+bdna/ndx/bdna+bdna.ndx\n",
      "echo 1 1| /usr/bin/gmx trjconv -s /home/ytcdata/simulation/tat_3_21mer/bdna+bdna/order_xtc/md25.nopbc.gro -f /home/ytcdata/simulation/tat_3_21mer/bdna+bdna/order_xtc/md26.xtc -pbc nojump -o /home/ytcdata/simulation/tat_3_21mer/bdna+bdna/data/raw/bdna+bdna.nopbc.27.xtc -center -n /home/ytcdata/simulation/tat_3_21mer/bdna+bdna/ndx/bdna+bdna.ndx\n",
      "echo 1 1| /usr/bin/gmx trjconv -s /home/ytcdata/simulation/tat_3_21mer/bdna+bdna/order_xtc/md26.nopbc.gro -f /home/ytcdata/simulation/tat_3_21mer/bdna+bdna/order_xtc/md27.xtc -pbc nojump -o /home/ytcdata/simulation/tat_3_21mer/bdna+bdna/data/raw/bdna+bdna.nopbc.28.xtc -center -n /home/ytcdata/simulation/tat_3_21mer/bdna+bdna/ndx/bdna+bdna.ndx\n",
      "echo 1 1| /usr/bin/gmx trjconv -s /home/ytcdata/simulation/tat_3_21mer/bdna+bdna/order_xtc/md27.nopbc.gro -f /home/ytcdata/simulation/tat_3_21mer/bdna+bdna/order_xtc/md28.xtc -pbc nojump -o /home/ytcdata/simulation/tat_3_21mer/bdna+bdna/data/raw/bdna+bdna.nopbc.29.xtc -center -n /home/ytcdata/simulation/tat_3_21mer/bdna+bdna/ndx/bdna+bdna.ndx\n",
      "echo 1 1| /usr/bin/gmx trjconv -s /home/ytcdata/simulation/tat_3_21mer/bdna+bdna/order_xtc/md28.nopbc.gro -f /home/ytcdata/simulation/tat_3_21mer/bdna+bdna/order_xtc/md29.xtc -pbc nojump -o /home/ytcdata/simulation/tat_3_21mer/bdna+bdna/data/raw/bdna+bdna.nopbc.30.xtc -center -n /home/ytcdata/simulation/tat_3_21mer/bdna+bdna/ndx/bdna+bdna.ndx\n",
      "echo 1 1| /usr/bin/gmx trjconv -s /home/ytcdata/simulation/tat_3_21mer/bdna+bdna/order_xtc/md29.nopbc.gro -f /home/ytcdata/simulation/tat_3_21mer/bdna+bdna/order_xtc/md30.xtc -pbc nojump -o /home/ytcdata/simulation/tat_3_21mer/bdna+bdna/data/raw/bdna+bdna.nopbc.31.xtc -center -n /home/ytcdata/simulation/tat_3_21mer/bdna+bdna/ndx/bdna+bdna.ndx\n",
      "echo 1 1| /usr/bin/gmx trjconv -s /home/ytcdata/simulation/tat_3_21mer/bdna+bdna/order_xtc/md30.nopbc.gro -f /home/ytcdata/simulation/tat_3_21mer/bdna+bdna/order_xtc/md31.xtc -pbc nojump -o /home/ytcdata/simulation/tat_3_21mer/bdna+bdna/data/raw/bdna+bdna.nopbc.32.xtc -center -n /home/ytcdata/simulation/tat_3_21mer/bdna+bdna/ndx/bdna+bdna.ndx\n",
      "echo 1 1| /usr/bin/gmx trjconv -s /home/ytcdata/simulation/tat_3_21mer/bdna+bdna/order_xtc/md31.nopbc.gro -f /home/ytcdata/simulation/tat_3_21mer/bdna+bdna/order_xtc/md32.xtc -pbc nojump -o /home/ytcdata/simulation/tat_3_21mer/bdna+bdna/data/raw/bdna+bdna.nopbc.33.xtc -center -n /home/ytcdata/simulation/tat_3_21mer/bdna+bdna/ndx/bdna+bdna.ndx\n",
      "echo 1 1| /usr/bin/gmx trjconv -s /home/ytcdata/simulation/tat_3_21mer/bdna+bdna/order_xtc/md32.nopbc.gro -f /home/ytcdata/simulation/tat_3_21mer/bdna+bdna/order_xtc/md33.xtc -pbc nojump -o /home/ytcdata/simulation/tat_3_21mer/bdna+bdna/data/raw/bdna+bdna.nopbc.34.xtc -center -n /home/ytcdata/simulation/tat_3_21mer/bdna+bdna/ndx/bdna+bdna.ndx\n",
      "echo 1 1| /usr/bin/gmx trjconv -s /home/ytcdata/simulation/tat_3_21mer/bdna+bdna/order_xtc/md33.nopbc.gro -f /home/ytcdata/simulation/tat_3_21mer/bdna+bdna/order_xtc/md34.xtc -pbc nojump -o /home/ytcdata/simulation/tat_3_21mer/bdna+bdna/data/raw/bdna+bdna.nopbc.35.xtc -center -n /home/ytcdata/simulation/tat_3_21mer/bdna+bdna/ndx/bdna+bdna.ndx\n",
      "echo 1 1| /usr/bin/gmx trjconv -s /home/ytcdata/simulation/tat_3_21mer/bdna+bdna/order_xtc/md34.nopbc.gro -f /home/ytcdata/simulation/tat_3_21mer/bdna+bdna/order_xtc/md35.xtc -pbc nojump -o /home/ytcdata/simulation/tat_3_21mer/bdna+bdna/data/raw/bdna+bdna.nopbc.36.xtc -center -n /home/ytcdata/simulation/tat_3_21mer/bdna+bdna/ndx/bdna+bdna.ndx\n",
      "echo 1 1| /usr/bin/gmx trjconv -s /home/ytcdata/simulation/tat_3_21mer/bdna+bdna/order_xtc/md35.nopbc.gro -f /home/ytcdata/simulation/tat_3_21mer/bdna+bdna/order_xtc/md36.xtc -pbc nojump -o /home/ytcdata/simulation/tat_3_21mer/bdna+bdna/data/raw/bdna+bdna.nopbc.37.xtc -center -n /home/ytcdata/simulation/tat_3_21mer/bdna+bdna/ndx/bdna+bdna.ndx\n",
      "echo 1 1| /usr/bin/gmx trjconv -s /home/ytcdata/simulation/tat_3_21mer/bdna+bdna/order_xtc/md36.nopbc.gro -f /home/ytcdata/simulation/tat_3_21mer/bdna+bdna/order_xtc/md37.xtc -pbc nojump -o /home/ytcdata/simulation/tat_3_21mer/bdna+bdna/data/raw/bdna+bdna.nopbc.38.xtc -center -n /home/ytcdata/simulation/tat_3_21mer/bdna+bdna/ndx/bdna+bdna.ndx\n",
      "echo 1 1| /usr/bin/gmx trjconv -s /home/ytcdata/simulation/tat_3_21mer/bdna+bdna/order_xtc/md37.nopbc.gro -f /home/ytcdata/simulation/tat_3_21mer/bdna+bdna/order_xtc/md38.xtc -pbc nojump -o /home/ytcdata/simulation/tat_3_21mer/bdna+bdna/data/raw/bdna+bdna.nopbc.39.xtc -center -n /home/ytcdata/simulation/tat_3_21mer/bdna+bdna/ndx/bdna+bdna.ndx\n",
      "echo 1 1| /usr/bin/gmx trjconv -s /home/ytcdata/simulation/tat_3_21mer/bdna+bdna/order_xtc/md38.nopbc.gro -f /home/ytcdata/simulation/tat_3_21mer/bdna+bdna/order_xtc/md39.xtc -pbc nojump -o /home/ytcdata/simulation/tat_3_21mer/bdna+bdna/data/raw/bdna+bdna.nopbc.40.xtc -center -n /home/ytcdata/simulation/tat_3_21mer/bdna+bdna/ndx/bdna+bdna.ndx\n",
      "echo 1 1| /usr/bin/gmx trjconv -s /home/ytcdata/simulation/tat_3_21mer/bdna+bdna/order_xtc/md39.nopbc.gro -f /home/ytcdata/simulation/tat_3_21mer/bdna+bdna/order_xtc/md40.xtc -pbc nojump -o /home/ytcdata/simulation/tat_3_21mer/bdna+bdna/data/raw/bdna+bdna.nopbc.41.xtc -center -n /home/ytcdata/simulation/tat_3_21mer/bdna+bdna/ndx/bdna+bdna.ndx\n",
      "echo 1 1| /usr/bin/gmx trjconv -s /home/ytcdata/simulation/tat_3_21mer/bdna+bdna/order_xtc/md40.nopbc.gro -f /home/ytcdata/simulation/tat_3_21mer/bdna+bdna/order_xtc/md41.xtc -pbc nojump -o /home/ytcdata/simulation/tat_3_21mer/bdna+bdna/data/raw/bdna+bdna.nopbc.42.xtc -center -n /home/ytcdata/simulation/tat_3_21mer/bdna+bdna/ndx/bdna+bdna.ndx\n",
      "echo 1 1| /usr/bin/gmx trjconv -s /home/ytcdata/simulation/tat_3_21mer/bdna+bdna/order_xtc/md41.nopbc.gro -f /home/ytcdata/simulation/tat_3_21mer/bdna+bdna/order_xtc/md42.xtc -pbc nojump -o /home/ytcdata/simulation/tat_3_21mer/bdna+bdna/data/raw/bdna+bdna.nopbc.43.xtc -center -n /home/ytcdata/simulation/tat_3_21mer/bdna+bdna/ndx/bdna+bdna.ndx\n",
      "echo 1 1| /usr/bin/gmx trjconv -s /home/ytcdata/simulation/tat_3_21mer/bdna+bdna/order_xtc/md42.nopbc.gro -f /home/ytcdata/simulation/tat_3_21mer/bdna+bdna/order_xtc/md43.xtc -pbc nojump -o /home/ytcdata/simulation/tat_3_21mer/bdna+bdna/data/raw/bdna+bdna.nopbc.44.xtc -center -n /home/ytcdata/simulation/tat_3_21mer/bdna+bdna/ndx/bdna+bdna.ndx\n",
      "echo 1 1| /usr/bin/gmx trjconv -s /home/ytcdata/simulation/tat_3_21mer/bdna+bdna/order_xtc/md43.nopbc.gro -f /home/ytcdata/simulation/tat_3_21mer/bdna+bdna/order_xtc/md44.xtc -pbc nojump -o /home/ytcdata/simulation/tat_3_21mer/bdna+bdna/data/raw/bdna+bdna.nopbc.45.xtc -center -n /home/ytcdata/simulation/tat_3_21mer/bdna+bdna/ndx/bdna+bdna.ndx\n",
      "echo 1 1| /usr/bin/gmx trjconv -s /home/ytcdata/simulation/tat_3_21mer/bdna+bdna/order_xtc/md44.nopbc.gro -f /home/ytcdata/simulation/tat_3_21mer/bdna+bdna/order_xtc/md45.xtc -pbc nojump -o /home/ytcdata/simulation/tat_3_21mer/bdna+bdna/data/raw/bdna+bdna.nopbc.46.xtc -center -n /home/ytcdata/simulation/tat_3_21mer/bdna+bdna/ndx/bdna+bdna.ndx\n",
      "echo 1 1| /usr/bin/gmx trjconv -s /home/ytcdata/simulation/tat_3_21mer/bdna+bdna/order_xtc/md45.nopbc.gro -f /home/ytcdata/simulation/tat_3_21mer/bdna+bdna/order_xtc/md46.xtc -pbc nojump -o /home/ytcdata/simulation/tat_3_21mer/bdna+bdna/data/raw/bdna+bdna.nopbc.47.xtc -center -n /home/ytcdata/simulation/tat_3_21mer/bdna+bdna/ndx/bdna+bdna.ndx\n",
      "echo 1 1| /usr/bin/gmx trjconv -s /home/ytcdata/simulation/tat_3_21mer/bdna+bdna/order_xtc/md46.nopbc.gro -f /home/ytcdata/simulation/tat_3_21mer/bdna+bdna/order_xtc/md47.xtc -pbc nojump -o /home/ytcdata/simulation/tat_3_21mer/bdna+bdna/data/raw/bdna+bdna.nopbc.48.xtc -center -n /home/ytcdata/simulation/tat_3_21mer/bdna+bdna/ndx/bdna+bdna.ndx\n",
      "echo 1 1| /usr/bin/gmx trjconv -s /home/ytcdata/simulation/tat_3_21mer/bdna+bdna/order_xtc/md47.nopbc.gro -f /home/ytcdata/simulation/tat_3_21mer/bdna+bdna/order_xtc/md48.xtc -pbc nojump -o /home/ytcdata/simulation/tat_3_21mer/bdna+bdna/data/raw/bdna+bdna.nopbc.49.xtc -center -n /home/ytcdata/simulation/tat_3_21mer/bdna+bdna/ndx/bdna+bdna.ndx\n",
      "echo 1 1| /usr/bin/gmx trjconv -s /home/ytcdata/simulation/tat_3_21mer/bdna+bdna/order_xtc/md48.nopbc.gro -f /home/ytcdata/simulation/tat_3_21mer/bdna+bdna/order_xtc/md49.xtc -pbc nojump -o /home/ytcdata/simulation/tat_3_21mer/bdna+bdna/data/raw/bdna+bdna.nopbc.50.xtc -center -n /home/ytcdata/simulation/tat_3_21mer/bdna+bdna/ndx/bdna+bdna.ndx\n"
     ]
    }
   ],
   "source": [
    "# Set atom group number and process xtc\n",
    "atgnumber = 1 # None\n",
    "\n",
    "if atgnumber is None:\n",
    "    print('Please set atom group number!!!!')\n",
    "else:\n",
    "    for mdnum in range(start+1, end+2):\n",
    "        process_pbc.process_xtc(gmx, system_folder, type_na, mdnum, atgnumber)"
   ]
  },
  {
   "cell_type": "markdown",
   "metadata": {},
   "source": [
    "### Part 7: Fitting xtc"
   ]
  },
  {
   "cell_type": "code",
   "execution_count": 30,
   "metadata": {},
   "outputs": [
    {
     "name": "stdout",
     "output_type": "stream",
     "text": [
      "/usr/bin/gmx editconf -f /home/ytcdata/simulation/tat_3_21mer/bdna+bdna/order_xtc/npt4.nopbc.gro -o /home/ytcdata/simulation/tat_3_21mer/bdna+bdna/data/gro/bdna+bdna.npt4.fit.gro -n /home/ytcdata/simulation/tat_3_21mer/bdna+bdna/ndx/bdna+bdna.ndx\n"
     ]
    }
   ],
   "source": [
    "# Make only nucleic acids structure, and center at 0 0 0\n",
    "nopbc_npt4 = path.join(system_folder, 'order_xtc', 'npt4.nopbc.gro')\n",
    "npt4nacenter = path.join(system_folder, 'data', 'gro', f'{type_na}.npt4.fit.gro')\n",
    "ndxfile = path.join(system_folder, 'ndx', f'{type_na}.ndx')\n",
    "cmd = f'{gmx} editconf -f {nopbc_npt4} -o {npt4nacenter} -n {ndxfile}'\n",
    "print(cmd)"
   ]
  },
  {
   "cell_type": "code",
   "execution_count": 31,
   "metadata": {},
   "outputs": [
    {
     "name": "stdout",
     "output_type": "stream",
     "text": [
      "echo 0 0| /usr/bin/gmx trjconv -fit rot+trans -s /home/ytcdata/simulation/tat_3_21mer/bdna+bdna/data/gro/bdna+bdna.npt4.fit.gro -f /home/ytcdata/simulation/tat_3_21mer/bdna+bdna/data/raw/bdna+bdna.nopbc.11.xtc -o /home/ytcdata/simulation/tat_3_21mer/bdna+bdna/data/fittrj/bdna+bdna.nopbc.11.fit.xtc\n",
      "echo 0 0| /usr/bin/gmx trjconv -fit rot+trans -s /home/ytcdata/simulation/tat_3_21mer/bdna+bdna/data/gro/bdna+bdna.npt4.fit.gro -f /home/ytcdata/simulation/tat_3_21mer/bdna+bdna/data/raw/bdna+bdna.nopbc.12.xtc -o /home/ytcdata/simulation/tat_3_21mer/bdna+bdna/data/fittrj/bdna+bdna.nopbc.12.fit.xtc\n",
      "echo 0 0| /usr/bin/gmx trjconv -fit rot+trans -s /home/ytcdata/simulation/tat_3_21mer/bdna+bdna/data/gro/bdna+bdna.npt4.fit.gro -f /home/ytcdata/simulation/tat_3_21mer/bdna+bdna/data/raw/bdna+bdna.nopbc.13.xtc -o /home/ytcdata/simulation/tat_3_21mer/bdna+bdna/data/fittrj/bdna+bdna.nopbc.13.fit.xtc\n",
      "echo 0 0| /usr/bin/gmx trjconv -fit rot+trans -s /home/ytcdata/simulation/tat_3_21mer/bdna+bdna/data/gro/bdna+bdna.npt4.fit.gro -f /home/ytcdata/simulation/tat_3_21mer/bdna+bdna/data/raw/bdna+bdna.nopbc.14.xtc -o /home/ytcdata/simulation/tat_3_21mer/bdna+bdna/data/fittrj/bdna+bdna.nopbc.14.fit.xtc\n",
      "echo 0 0| /usr/bin/gmx trjconv -fit rot+trans -s /home/ytcdata/simulation/tat_3_21mer/bdna+bdna/data/gro/bdna+bdna.npt4.fit.gro -f /home/ytcdata/simulation/tat_3_21mer/bdna+bdna/data/raw/bdna+bdna.nopbc.15.xtc -o /home/ytcdata/simulation/tat_3_21mer/bdna+bdna/data/fittrj/bdna+bdna.nopbc.15.fit.xtc\n",
      "echo 0 0| /usr/bin/gmx trjconv -fit rot+trans -s /home/ytcdata/simulation/tat_3_21mer/bdna+bdna/data/gro/bdna+bdna.npt4.fit.gro -f /home/ytcdata/simulation/tat_3_21mer/bdna+bdna/data/raw/bdna+bdna.nopbc.16.xtc -o /home/ytcdata/simulation/tat_3_21mer/bdna+bdna/data/fittrj/bdna+bdna.nopbc.16.fit.xtc\n",
      "echo 0 0| /usr/bin/gmx trjconv -fit rot+trans -s /home/ytcdata/simulation/tat_3_21mer/bdna+bdna/data/gro/bdna+bdna.npt4.fit.gro -f /home/ytcdata/simulation/tat_3_21mer/bdna+bdna/data/raw/bdna+bdna.nopbc.17.xtc -o /home/ytcdata/simulation/tat_3_21mer/bdna+bdna/data/fittrj/bdna+bdna.nopbc.17.fit.xtc\n",
      "echo 0 0| /usr/bin/gmx trjconv -fit rot+trans -s /home/ytcdata/simulation/tat_3_21mer/bdna+bdna/data/gro/bdna+bdna.npt4.fit.gro -f /home/ytcdata/simulation/tat_3_21mer/bdna+bdna/data/raw/bdna+bdna.nopbc.18.xtc -o /home/ytcdata/simulation/tat_3_21mer/bdna+bdna/data/fittrj/bdna+bdna.nopbc.18.fit.xtc\n",
      "echo 0 0| /usr/bin/gmx trjconv -fit rot+trans -s /home/ytcdata/simulation/tat_3_21mer/bdna+bdna/data/gro/bdna+bdna.npt4.fit.gro -f /home/ytcdata/simulation/tat_3_21mer/bdna+bdna/data/raw/bdna+bdna.nopbc.19.xtc -o /home/ytcdata/simulation/tat_3_21mer/bdna+bdna/data/fittrj/bdna+bdna.nopbc.19.fit.xtc\n",
      "echo 0 0| /usr/bin/gmx trjconv -fit rot+trans -s /home/ytcdata/simulation/tat_3_21mer/bdna+bdna/data/gro/bdna+bdna.npt4.fit.gro -f /home/ytcdata/simulation/tat_3_21mer/bdna+bdna/data/raw/bdna+bdna.nopbc.20.xtc -o /home/ytcdata/simulation/tat_3_21mer/bdna+bdna/data/fittrj/bdna+bdna.nopbc.20.fit.xtc\n",
      "echo 0 0| /usr/bin/gmx trjconv -fit rot+trans -s /home/ytcdata/simulation/tat_3_21mer/bdna+bdna/data/gro/bdna+bdna.npt4.fit.gro -f /home/ytcdata/simulation/tat_3_21mer/bdna+bdna/data/raw/bdna+bdna.nopbc.21.xtc -o /home/ytcdata/simulation/tat_3_21mer/bdna+bdna/data/fittrj/bdna+bdna.nopbc.21.fit.xtc\n",
      "echo 0 0| /usr/bin/gmx trjconv -fit rot+trans -s /home/ytcdata/simulation/tat_3_21mer/bdna+bdna/data/gro/bdna+bdna.npt4.fit.gro -f /home/ytcdata/simulation/tat_3_21mer/bdna+bdna/data/raw/bdna+bdna.nopbc.22.xtc -o /home/ytcdata/simulation/tat_3_21mer/bdna+bdna/data/fittrj/bdna+bdna.nopbc.22.fit.xtc\n",
      "echo 0 0| /usr/bin/gmx trjconv -fit rot+trans -s /home/ytcdata/simulation/tat_3_21mer/bdna+bdna/data/gro/bdna+bdna.npt4.fit.gro -f /home/ytcdata/simulation/tat_3_21mer/bdna+bdna/data/raw/bdna+bdna.nopbc.23.xtc -o /home/ytcdata/simulation/tat_3_21mer/bdna+bdna/data/fittrj/bdna+bdna.nopbc.23.fit.xtc\n",
      "echo 0 0| /usr/bin/gmx trjconv -fit rot+trans -s /home/ytcdata/simulation/tat_3_21mer/bdna+bdna/data/gro/bdna+bdna.npt4.fit.gro -f /home/ytcdata/simulation/tat_3_21mer/bdna+bdna/data/raw/bdna+bdna.nopbc.24.xtc -o /home/ytcdata/simulation/tat_3_21mer/bdna+bdna/data/fittrj/bdna+bdna.nopbc.24.fit.xtc\n",
      "echo 0 0| /usr/bin/gmx trjconv -fit rot+trans -s /home/ytcdata/simulation/tat_3_21mer/bdna+bdna/data/gro/bdna+bdna.npt4.fit.gro -f /home/ytcdata/simulation/tat_3_21mer/bdna+bdna/data/raw/bdna+bdna.nopbc.25.xtc -o /home/ytcdata/simulation/tat_3_21mer/bdna+bdna/data/fittrj/bdna+bdna.nopbc.25.fit.xtc\n",
      "echo 0 0| /usr/bin/gmx trjconv -fit rot+trans -s /home/ytcdata/simulation/tat_3_21mer/bdna+bdna/data/gro/bdna+bdna.npt4.fit.gro -f /home/ytcdata/simulation/tat_3_21mer/bdna+bdna/data/raw/bdna+bdna.nopbc.26.xtc -o /home/ytcdata/simulation/tat_3_21mer/bdna+bdna/data/fittrj/bdna+bdna.nopbc.26.fit.xtc\n",
      "echo 0 0| /usr/bin/gmx trjconv -fit rot+trans -s /home/ytcdata/simulation/tat_3_21mer/bdna+bdna/data/gro/bdna+bdna.npt4.fit.gro -f /home/ytcdata/simulation/tat_3_21mer/bdna+bdna/data/raw/bdna+bdna.nopbc.27.xtc -o /home/ytcdata/simulation/tat_3_21mer/bdna+bdna/data/fittrj/bdna+bdna.nopbc.27.fit.xtc\n",
      "echo 0 0| /usr/bin/gmx trjconv -fit rot+trans -s /home/ytcdata/simulation/tat_3_21mer/bdna+bdna/data/gro/bdna+bdna.npt4.fit.gro -f /home/ytcdata/simulation/tat_3_21mer/bdna+bdna/data/raw/bdna+bdna.nopbc.28.xtc -o /home/ytcdata/simulation/tat_3_21mer/bdna+bdna/data/fittrj/bdna+bdna.nopbc.28.fit.xtc\n",
      "echo 0 0| /usr/bin/gmx trjconv -fit rot+trans -s /home/ytcdata/simulation/tat_3_21mer/bdna+bdna/data/gro/bdna+bdna.npt4.fit.gro -f /home/ytcdata/simulation/tat_3_21mer/bdna+bdna/data/raw/bdna+bdna.nopbc.29.xtc -o /home/ytcdata/simulation/tat_3_21mer/bdna+bdna/data/fittrj/bdna+bdna.nopbc.29.fit.xtc\n",
      "echo 0 0| /usr/bin/gmx trjconv -fit rot+trans -s /home/ytcdata/simulation/tat_3_21mer/bdna+bdna/data/gro/bdna+bdna.npt4.fit.gro -f /home/ytcdata/simulation/tat_3_21mer/bdna+bdna/data/raw/bdna+bdna.nopbc.30.xtc -o /home/ytcdata/simulation/tat_3_21mer/bdna+bdna/data/fittrj/bdna+bdna.nopbc.30.fit.xtc\n",
      "echo 0 0| /usr/bin/gmx trjconv -fit rot+trans -s /home/ytcdata/simulation/tat_3_21mer/bdna+bdna/data/gro/bdna+bdna.npt4.fit.gro -f /home/ytcdata/simulation/tat_3_21mer/bdna+bdna/data/raw/bdna+bdna.nopbc.31.xtc -o /home/ytcdata/simulation/tat_3_21mer/bdna+bdna/data/fittrj/bdna+bdna.nopbc.31.fit.xtc\n",
      "echo 0 0| /usr/bin/gmx trjconv -fit rot+trans -s /home/ytcdata/simulation/tat_3_21mer/bdna+bdna/data/gro/bdna+bdna.npt4.fit.gro -f /home/ytcdata/simulation/tat_3_21mer/bdna+bdna/data/raw/bdna+bdna.nopbc.32.xtc -o /home/ytcdata/simulation/tat_3_21mer/bdna+bdna/data/fittrj/bdna+bdna.nopbc.32.fit.xtc\n",
      "echo 0 0| /usr/bin/gmx trjconv -fit rot+trans -s /home/ytcdata/simulation/tat_3_21mer/bdna+bdna/data/gro/bdna+bdna.npt4.fit.gro -f /home/ytcdata/simulation/tat_3_21mer/bdna+bdna/data/raw/bdna+bdna.nopbc.33.xtc -o /home/ytcdata/simulation/tat_3_21mer/bdna+bdna/data/fittrj/bdna+bdna.nopbc.33.fit.xtc\n",
      "echo 0 0| /usr/bin/gmx trjconv -fit rot+trans -s /home/ytcdata/simulation/tat_3_21mer/bdna+bdna/data/gro/bdna+bdna.npt4.fit.gro -f /home/ytcdata/simulation/tat_3_21mer/bdna+bdna/data/raw/bdna+bdna.nopbc.34.xtc -o /home/ytcdata/simulation/tat_3_21mer/bdna+bdna/data/fittrj/bdna+bdna.nopbc.34.fit.xtc\n",
      "echo 0 0| /usr/bin/gmx trjconv -fit rot+trans -s /home/ytcdata/simulation/tat_3_21mer/bdna+bdna/data/gro/bdna+bdna.npt4.fit.gro -f /home/ytcdata/simulation/tat_3_21mer/bdna+bdna/data/raw/bdna+bdna.nopbc.35.xtc -o /home/ytcdata/simulation/tat_3_21mer/bdna+bdna/data/fittrj/bdna+bdna.nopbc.35.fit.xtc\n",
      "echo 0 0| /usr/bin/gmx trjconv -fit rot+trans -s /home/ytcdata/simulation/tat_3_21mer/bdna+bdna/data/gro/bdna+bdna.npt4.fit.gro -f /home/ytcdata/simulation/tat_3_21mer/bdna+bdna/data/raw/bdna+bdna.nopbc.36.xtc -o /home/ytcdata/simulation/tat_3_21mer/bdna+bdna/data/fittrj/bdna+bdna.nopbc.36.fit.xtc\n",
      "echo 0 0| /usr/bin/gmx trjconv -fit rot+trans -s /home/ytcdata/simulation/tat_3_21mer/bdna+bdna/data/gro/bdna+bdna.npt4.fit.gro -f /home/ytcdata/simulation/tat_3_21mer/bdna+bdna/data/raw/bdna+bdna.nopbc.37.xtc -o /home/ytcdata/simulation/tat_3_21mer/bdna+bdna/data/fittrj/bdna+bdna.nopbc.37.fit.xtc\n",
      "echo 0 0| /usr/bin/gmx trjconv -fit rot+trans -s /home/ytcdata/simulation/tat_3_21mer/bdna+bdna/data/gro/bdna+bdna.npt4.fit.gro -f /home/ytcdata/simulation/tat_3_21mer/bdna+bdna/data/raw/bdna+bdna.nopbc.38.xtc -o /home/ytcdata/simulation/tat_3_21mer/bdna+bdna/data/fittrj/bdna+bdna.nopbc.38.fit.xtc\n",
      "echo 0 0| /usr/bin/gmx trjconv -fit rot+trans -s /home/ytcdata/simulation/tat_3_21mer/bdna+bdna/data/gro/bdna+bdna.npt4.fit.gro -f /home/ytcdata/simulation/tat_3_21mer/bdna+bdna/data/raw/bdna+bdna.nopbc.39.xtc -o /home/ytcdata/simulation/tat_3_21mer/bdna+bdna/data/fittrj/bdna+bdna.nopbc.39.fit.xtc\n",
      "echo 0 0| /usr/bin/gmx trjconv -fit rot+trans -s /home/ytcdata/simulation/tat_3_21mer/bdna+bdna/data/gro/bdna+bdna.npt4.fit.gro -f /home/ytcdata/simulation/tat_3_21mer/bdna+bdna/data/raw/bdna+bdna.nopbc.40.xtc -o /home/ytcdata/simulation/tat_3_21mer/bdna+bdna/data/fittrj/bdna+bdna.nopbc.40.fit.xtc\n",
      "echo 0 0| /usr/bin/gmx trjconv -fit rot+trans -s /home/ytcdata/simulation/tat_3_21mer/bdna+bdna/data/gro/bdna+bdna.npt4.fit.gro -f /home/ytcdata/simulation/tat_3_21mer/bdna+bdna/data/raw/bdna+bdna.nopbc.41.xtc -o /home/ytcdata/simulation/tat_3_21mer/bdna+bdna/data/fittrj/bdna+bdna.nopbc.41.fit.xtc\n",
      "echo 0 0| /usr/bin/gmx trjconv -fit rot+trans -s /home/ytcdata/simulation/tat_3_21mer/bdna+bdna/data/gro/bdna+bdna.npt4.fit.gro -f /home/ytcdata/simulation/tat_3_21mer/bdna+bdna/data/raw/bdna+bdna.nopbc.42.xtc -o /home/ytcdata/simulation/tat_3_21mer/bdna+bdna/data/fittrj/bdna+bdna.nopbc.42.fit.xtc\n",
      "echo 0 0| /usr/bin/gmx trjconv -fit rot+trans -s /home/ytcdata/simulation/tat_3_21mer/bdna+bdna/data/gro/bdna+bdna.npt4.fit.gro -f /home/ytcdata/simulation/tat_3_21mer/bdna+bdna/data/raw/bdna+bdna.nopbc.43.xtc -o /home/ytcdata/simulation/tat_3_21mer/bdna+bdna/data/fittrj/bdna+bdna.nopbc.43.fit.xtc\n",
      "echo 0 0| /usr/bin/gmx trjconv -fit rot+trans -s /home/ytcdata/simulation/tat_3_21mer/bdna+bdna/data/gro/bdna+bdna.npt4.fit.gro -f /home/ytcdata/simulation/tat_3_21mer/bdna+bdna/data/raw/bdna+bdna.nopbc.44.xtc -o /home/ytcdata/simulation/tat_3_21mer/bdna+bdna/data/fittrj/bdna+bdna.nopbc.44.fit.xtc\n",
      "echo 0 0| /usr/bin/gmx trjconv -fit rot+trans -s /home/ytcdata/simulation/tat_3_21mer/bdna+bdna/data/gro/bdna+bdna.npt4.fit.gro -f /home/ytcdata/simulation/tat_3_21mer/bdna+bdna/data/raw/bdna+bdna.nopbc.45.xtc -o /home/ytcdata/simulation/tat_3_21mer/bdna+bdna/data/fittrj/bdna+bdna.nopbc.45.fit.xtc\n",
      "echo 0 0| /usr/bin/gmx trjconv -fit rot+trans -s /home/ytcdata/simulation/tat_3_21mer/bdna+bdna/data/gro/bdna+bdna.npt4.fit.gro -f /home/ytcdata/simulation/tat_3_21mer/bdna+bdna/data/raw/bdna+bdna.nopbc.46.xtc -o /home/ytcdata/simulation/tat_3_21mer/bdna+bdna/data/fittrj/bdna+bdna.nopbc.46.fit.xtc\n",
      "echo 0 0| /usr/bin/gmx trjconv -fit rot+trans -s /home/ytcdata/simulation/tat_3_21mer/bdna+bdna/data/gro/bdna+bdna.npt4.fit.gro -f /home/ytcdata/simulation/tat_3_21mer/bdna+bdna/data/raw/bdna+bdna.nopbc.47.xtc -o /home/ytcdata/simulation/tat_3_21mer/bdna+bdna/data/fittrj/bdna+bdna.nopbc.47.fit.xtc\n",
      "echo 0 0| /usr/bin/gmx trjconv -fit rot+trans -s /home/ytcdata/simulation/tat_3_21mer/bdna+bdna/data/gro/bdna+bdna.npt4.fit.gro -f /home/ytcdata/simulation/tat_3_21mer/bdna+bdna/data/raw/bdna+bdna.nopbc.48.xtc -o /home/ytcdata/simulation/tat_3_21mer/bdna+bdna/data/fittrj/bdna+bdna.nopbc.48.fit.xtc\n",
      "echo 0 0| /usr/bin/gmx trjconv -fit rot+trans -s /home/ytcdata/simulation/tat_3_21mer/bdna+bdna/data/gro/bdna+bdna.npt4.fit.gro -f /home/ytcdata/simulation/tat_3_21mer/bdna+bdna/data/raw/bdna+bdna.nopbc.49.xtc -o /home/ytcdata/simulation/tat_3_21mer/bdna+bdna/data/fittrj/bdna+bdna.nopbc.49.fit.xtc\n",
      "echo 0 0| /usr/bin/gmx trjconv -fit rot+trans -s /home/ytcdata/simulation/tat_3_21mer/bdna+bdna/data/gro/bdna+bdna.npt4.fit.gro -f /home/ytcdata/simulation/tat_3_21mer/bdna+bdna/data/raw/bdna+bdna.nopbc.50.xtc -o /home/ytcdata/simulation/tat_3_21mer/bdna+bdna/data/fittrj/bdna+bdna.nopbc.50.fit.xtc\n"
     ]
    }
   ],
   "source": [
    "for mdnum in range(start+1, end+2):\n",
    "    process_pbc.fitting_xtc(gmx, system_folder, type_na, mdnum)"
   ]
  },
  {
   "cell_type": "markdown",
   "metadata": {},
   "source": [
    "### Part 8: Extract Trajectory using interval 100 ps"
   ]
  },
  {
   "cell_type": "code",
   "execution_count": 32,
   "metadata": {},
   "outputs": [
    {
     "name": "stdout",
     "output_type": "stream",
     "text": [
      "/usr/bin/gmx trjcat -f /home/ytcdata/simulation/tat_3_21mer/bdna+bdna/data/fittrj/bdna+bdna.nopbc.11.fit.xtc -o /home/ytcdata/simulation/tat_3_21mer/bdna+bdna/data/roughtrj/1000/bdna+bdna.nopbc.fit.11.1000.xtc -dt 100\n",
      "/usr/bin/gmx trjcat -f /home/ytcdata/simulation/tat_3_21mer/bdna+bdna/data/fittrj/bdna+bdna.nopbc.12.fit.xtc -o /home/ytcdata/simulation/tat_3_21mer/bdna+bdna/data/roughtrj/1000/bdna+bdna.nopbc.fit.12.1000.xtc -dt 100\n",
      "/usr/bin/gmx trjcat -f /home/ytcdata/simulation/tat_3_21mer/bdna+bdna/data/fittrj/bdna+bdna.nopbc.13.fit.xtc -o /home/ytcdata/simulation/tat_3_21mer/bdna+bdna/data/roughtrj/1000/bdna+bdna.nopbc.fit.13.1000.xtc -dt 100\n",
      "/usr/bin/gmx trjcat -f /home/ytcdata/simulation/tat_3_21mer/bdna+bdna/data/fittrj/bdna+bdna.nopbc.14.fit.xtc -o /home/ytcdata/simulation/tat_3_21mer/bdna+bdna/data/roughtrj/1000/bdna+bdna.nopbc.fit.14.1000.xtc -dt 100\n",
      "/usr/bin/gmx trjcat -f /home/ytcdata/simulation/tat_3_21mer/bdna+bdna/data/fittrj/bdna+bdna.nopbc.15.fit.xtc -o /home/ytcdata/simulation/tat_3_21mer/bdna+bdna/data/roughtrj/1000/bdna+bdna.nopbc.fit.15.1000.xtc -dt 100\n",
      "/usr/bin/gmx trjcat -f /home/ytcdata/simulation/tat_3_21mer/bdna+bdna/data/fittrj/bdna+bdna.nopbc.16.fit.xtc -o /home/ytcdata/simulation/tat_3_21mer/bdna+bdna/data/roughtrj/1000/bdna+bdna.nopbc.fit.16.1000.xtc -dt 100\n",
      "/usr/bin/gmx trjcat -f /home/ytcdata/simulation/tat_3_21mer/bdna+bdna/data/fittrj/bdna+bdna.nopbc.17.fit.xtc -o /home/ytcdata/simulation/tat_3_21mer/bdna+bdna/data/roughtrj/1000/bdna+bdna.nopbc.fit.17.1000.xtc -dt 100\n",
      "/usr/bin/gmx trjcat -f /home/ytcdata/simulation/tat_3_21mer/bdna+bdna/data/fittrj/bdna+bdna.nopbc.18.fit.xtc -o /home/ytcdata/simulation/tat_3_21mer/bdna+bdna/data/roughtrj/1000/bdna+bdna.nopbc.fit.18.1000.xtc -dt 100\n",
      "/usr/bin/gmx trjcat -f /home/ytcdata/simulation/tat_3_21mer/bdna+bdna/data/fittrj/bdna+bdna.nopbc.19.fit.xtc -o /home/ytcdata/simulation/tat_3_21mer/bdna+bdna/data/roughtrj/1000/bdna+bdna.nopbc.fit.19.1000.xtc -dt 100\n",
      "/usr/bin/gmx trjcat -f /home/ytcdata/simulation/tat_3_21mer/bdna+bdna/data/fittrj/bdna+bdna.nopbc.20.fit.xtc -o /home/ytcdata/simulation/tat_3_21mer/bdna+bdna/data/roughtrj/1000/bdna+bdna.nopbc.fit.20.1000.xtc -dt 100\n",
      "/usr/bin/gmx trjcat -f /home/ytcdata/simulation/tat_3_21mer/bdna+bdna/data/fittrj/bdna+bdna.nopbc.21.fit.xtc -o /home/ytcdata/simulation/tat_3_21mer/bdna+bdna/data/roughtrj/1000/bdna+bdna.nopbc.fit.21.1000.xtc -dt 100\n",
      "/usr/bin/gmx trjcat -f /home/ytcdata/simulation/tat_3_21mer/bdna+bdna/data/fittrj/bdna+bdna.nopbc.22.fit.xtc -o /home/ytcdata/simulation/tat_3_21mer/bdna+bdna/data/roughtrj/1000/bdna+bdna.nopbc.fit.22.1000.xtc -dt 100\n",
      "/usr/bin/gmx trjcat -f /home/ytcdata/simulation/tat_3_21mer/bdna+bdna/data/fittrj/bdna+bdna.nopbc.23.fit.xtc -o /home/ytcdata/simulation/tat_3_21mer/bdna+bdna/data/roughtrj/1000/bdna+bdna.nopbc.fit.23.1000.xtc -dt 100\n",
      "/usr/bin/gmx trjcat -f /home/ytcdata/simulation/tat_3_21mer/bdna+bdna/data/fittrj/bdna+bdna.nopbc.24.fit.xtc -o /home/ytcdata/simulation/tat_3_21mer/bdna+bdna/data/roughtrj/1000/bdna+bdna.nopbc.fit.24.1000.xtc -dt 100\n",
      "/usr/bin/gmx trjcat -f /home/ytcdata/simulation/tat_3_21mer/bdna+bdna/data/fittrj/bdna+bdna.nopbc.25.fit.xtc -o /home/ytcdata/simulation/tat_3_21mer/bdna+bdna/data/roughtrj/1000/bdna+bdna.nopbc.fit.25.1000.xtc -dt 100\n",
      "/usr/bin/gmx trjcat -f /home/ytcdata/simulation/tat_3_21mer/bdna+bdna/data/fittrj/bdna+bdna.nopbc.26.fit.xtc -o /home/ytcdata/simulation/tat_3_21mer/bdna+bdna/data/roughtrj/1000/bdna+bdna.nopbc.fit.26.1000.xtc -dt 100\n",
      "/usr/bin/gmx trjcat -f /home/ytcdata/simulation/tat_3_21mer/bdna+bdna/data/fittrj/bdna+bdna.nopbc.27.fit.xtc -o /home/ytcdata/simulation/tat_3_21mer/bdna+bdna/data/roughtrj/1000/bdna+bdna.nopbc.fit.27.1000.xtc -dt 100\n",
      "/usr/bin/gmx trjcat -f /home/ytcdata/simulation/tat_3_21mer/bdna+bdna/data/fittrj/bdna+bdna.nopbc.28.fit.xtc -o /home/ytcdata/simulation/tat_3_21mer/bdna+bdna/data/roughtrj/1000/bdna+bdna.nopbc.fit.28.1000.xtc -dt 100\n",
      "/usr/bin/gmx trjcat -f /home/ytcdata/simulation/tat_3_21mer/bdna+bdna/data/fittrj/bdna+bdna.nopbc.29.fit.xtc -o /home/ytcdata/simulation/tat_3_21mer/bdna+bdna/data/roughtrj/1000/bdna+bdna.nopbc.fit.29.1000.xtc -dt 100\n",
      "/usr/bin/gmx trjcat -f /home/ytcdata/simulation/tat_3_21mer/bdna+bdna/data/fittrj/bdna+bdna.nopbc.30.fit.xtc -o /home/ytcdata/simulation/tat_3_21mer/bdna+bdna/data/roughtrj/1000/bdna+bdna.nopbc.fit.30.1000.xtc -dt 100\n",
      "/usr/bin/gmx trjcat -f /home/ytcdata/simulation/tat_3_21mer/bdna+bdna/data/fittrj/bdna+bdna.nopbc.31.fit.xtc -o /home/ytcdata/simulation/tat_3_21mer/bdna+bdna/data/roughtrj/1000/bdna+bdna.nopbc.fit.31.1000.xtc -dt 100\n",
      "/usr/bin/gmx trjcat -f /home/ytcdata/simulation/tat_3_21mer/bdna+bdna/data/fittrj/bdna+bdna.nopbc.32.fit.xtc -o /home/ytcdata/simulation/tat_3_21mer/bdna+bdna/data/roughtrj/1000/bdna+bdna.nopbc.fit.32.1000.xtc -dt 100\n",
      "/usr/bin/gmx trjcat -f /home/ytcdata/simulation/tat_3_21mer/bdna+bdna/data/fittrj/bdna+bdna.nopbc.33.fit.xtc -o /home/ytcdata/simulation/tat_3_21mer/bdna+bdna/data/roughtrj/1000/bdna+bdna.nopbc.fit.33.1000.xtc -dt 100\n",
      "/usr/bin/gmx trjcat -f /home/ytcdata/simulation/tat_3_21mer/bdna+bdna/data/fittrj/bdna+bdna.nopbc.34.fit.xtc -o /home/ytcdata/simulation/tat_3_21mer/bdna+bdna/data/roughtrj/1000/bdna+bdna.nopbc.fit.34.1000.xtc -dt 100\n",
      "/usr/bin/gmx trjcat -f /home/ytcdata/simulation/tat_3_21mer/bdna+bdna/data/fittrj/bdna+bdna.nopbc.35.fit.xtc -o /home/ytcdata/simulation/tat_3_21mer/bdna+bdna/data/roughtrj/1000/bdna+bdna.nopbc.fit.35.1000.xtc -dt 100\n",
      "/usr/bin/gmx trjcat -f /home/ytcdata/simulation/tat_3_21mer/bdna+bdna/data/fittrj/bdna+bdna.nopbc.36.fit.xtc -o /home/ytcdata/simulation/tat_3_21mer/bdna+bdna/data/roughtrj/1000/bdna+bdna.nopbc.fit.36.1000.xtc -dt 100\n",
      "/usr/bin/gmx trjcat -f /home/ytcdata/simulation/tat_3_21mer/bdna+bdna/data/fittrj/bdna+bdna.nopbc.37.fit.xtc -o /home/ytcdata/simulation/tat_3_21mer/bdna+bdna/data/roughtrj/1000/bdna+bdna.nopbc.fit.37.1000.xtc -dt 100\n",
      "/usr/bin/gmx trjcat -f /home/ytcdata/simulation/tat_3_21mer/bdna+bdna/data/fittrj/bdna+bdna.nopbc.38.fit.xtc -o /home/ytcdata/simulation/tat_3_21mer/bdna+bdna/data/roughtrj/1000/bdna+bdna.nopbc.fit.38.1000.xtc -dt 100\n",
      "/usr/bin/gmx trjcat -f /home/ytcdata/simulation/tat_3_21mer/bdna+bdna/data/fittrj/bdna+bdna.nopbc.39.fit.xtc -o /home/ytcdata/simulation/tat_3_21mer/bdna+bdna/data/roughtrj/1000/bdna+bdna.nopbc.fit.39.1000.xtc -dt 100\n",
      "/usr/bin/gmx trjcat -f /home/ytcdata/simulation/tat_3_21mer/bdna+bdna/data/fittrj/bdna+bdna.nopbc.40.fit.xtc -o /home/ytcdata/simulation/tat_3_21mer/bdna+bdna/data/roughtrj/1000/bdna+bdna.nopbc.fit.40.1000.xtc -dt 100\n",
      "/usr/bin/gmx trjcat -f /home/ytcdata/simulation/tat_3_21mer/bdna+bdna/data/fittrj/bdna+bdna.nopbc.41.fit.xtc -o /home/ytcdata/simulation/tat_3_21mer/bdna+bdna/data/roughtrj/1000/bdna+bdna.nopbc.fit.41.1000.xtc -dt 100\n",
      "/usr/bin/gmx trjcat -f /home/ytcdata/simulation/tat_3_21mer/bdna+bdna/data/fittrj/bdna+bdna.nopbc.42.fit.xtc -o /home/ytcdata/simulation/tat_3_21mer/bdna+bdna/data/roughtrj/1000/bdna+bdna.nopbc.fit.42.1000.xtc -dt 100\n",
      "/usr/bin/gmx trjcat -f /home/ytcdata/simulation/tat_3_21mer/bdna+bdna/data/fittrj/bdna+bdna.nopbc.43.fit.xtc -o /home/ytcdata/simulation/tat_3_21mer/bdna+bdna/data/roughtrj/1000/bdna+bdna.nopbc.fit.43.1000.xtc -dt 100\n",
      "/usr/bin/gmx trjcat -f /home/ytcdata/simulation/tat_3_21mer/bdna+bdna/data/fittrj/bdna+bdna.nopbc.44.fit.xtc -o /home/ytcdata/simulation/tat_3_21mer/bdna+bdna/data/roughtrj/1000/bdna+bdna.nopbc.fit.44.1000.xtc -dt 100\n",
      "/usr/bin/gmx trjcat -f /home/ytcdata/simulation/tat_3_21mer/bdna+bdna/data/fittrj/bdna+bdna.nopbc.45.fit.xtc -o /home/ytcdata/simulation/tat_3_21mer/bdna+bdna/data/roughtrj/1000/bdna+bdna.nopbc.fit.45.1000.xtc -dt 100\n",
      "/usr/bin/gmx trjcat -f /home/ytcdata/simulation/tat_3_21mer/bdna+bdna/data/fittrj/bdna+bdna.nopbc.46.fit.xtc -o /home/ytcdata/simulation/tat_3_21mer/bdna+bdna/data/roughtrj/1000/bdna+bdna.nopbc.fit.46.1000.xtc -dt 100\n",
      "/usr/bin/gmx trjcat -f /home/ytcdata/simulation/tat_3_21mer/bdna+bdna/data/fittrj/bdna+bdna.nopbc.47.fit.xtc -o /home/ytcdata/simulation/tat_3_21mer/bdna+bdna/data/roughtrj/1000/bdna+bdna.nopbc.fit.47.1000.xtc -dt 100\n",
      "/usr/bin/gmx trjcat -f /home/ytcdata/simulation/tat_3_21mer/bdna+bdna/data/fittrj/bdna+bdna.nopbc.48.fit.xtc -o /home/ytcdata/simulation/tat_3_21mer/bdna+bdna/data/roughtrj/1000/bdna+bdna.nopbc.fit.48.1000.xtc -dt 100\n",
      "/usr/bin/gmx trjcat -f /home/ytcdata/simulation/tat_3_21mer/bdna+bdna/data/fittrj/bdna+bdna.nopbc.49.fit.xtc -o /home/ytcdata/simulation/tat_3_21mer/bdna+bdna/data/roughtrj/1000/bdna+bdna.nopbc.fit.49.1000.xtc -dt 100\n",
      "/usr/bin/gmx trjcat -f /home/ytcdata/simulation/tat_3_21mer/bdna+bdna/data/fittrj/bdna+bdna.nopbc.50.fit.xtc -o /home/ytcdata/simulation/tat_3_21mer/bdna+bdna/data/roughtrj/1000/bdna+bdna.nopbc.fit.50.1000.xtc -dt 100\n"
     ]
    }
   ],
   "source": [
    "for mdnum in range(start+1, end+2):\n",
    "    process_pbc.extract_trajectory_by_big_interval(gmx, system_folder, type_na, mdnum)"
   ]
  },
  {
   "cell_type": "markdown",
   "metadata": {},
   "source": [
    "### Part 9: Concatenate and using vmd show"
   ]
  },
  {
   "cell_type": "code",
   "execution_count": 34,
   "metadata": {},
   "outputs": [
    {
     "name": "stdout",
     "output_type": "stream",
     "text": [
      "/usr/bin/gmx trjcat -f /home/ytcdata/simulation/tat_3_21mer/bdna+bdna/data/roughtrj/1000/bdna+bdna.nopbc.fit.1.1000.xtc /home/ytcdata/simulation/tat_3_21mer/bdna+bdna/data/roughtrj/1000/bdna+bdna.nopbc.fit.2.1000.xtc /home/ytcdata/simulation/tat_3_21mer/bdna+bdna/data/roughtrj/1000/bdna+bdna.nopbc.fit.3.1000.xtc /home/ytcdata/simulation/tat_3_21mer/bdna+bdna/data/roughtrj/1000/bdna+bdna.nopbc.fit.4.1000.xtc /home/ytcdata/simulation/tat_3_21mer/bdna+bdna/data/roughtrj/1000/bdna+bdna.nopbc.fit.5.1000.xtc /home/ytcdata/simulation/tat_3_21mer/bdna+bdna/data/roughtrj/1000/bdna+bdna.nopbc.fit.6.1000.xtc /home/ytcdata/simulation/tat_3_21mer/bdna+bdna/data/roughtrj/1000/bdna+bdna.nopbc.fit.7.1000.xtc /home/ytcdata/simulation/tat_3_21mer/bdna+bdna/data/roughtrj/1000/bdna+bdna.nopbc.fit.8.1000.xtc /home/ytcdata/simulation/tat_3_21mer/bdna+bdna/data/roughtrj/1000/bdna+bdna.nopbc.fit.9.1000.xtc /home/ytcdata/simulation/tat_3_21mer/bdna+bdna/data/roughtrj/1000/bdna+bdna.nopbc.fit.10.1000.xtc /home/ytcdata/simulation/tat_3_21mer/bdna+bdna/data/roughtrj/1000/bdna+bdna.nopbc.fit.11.1000.xtc /home/ytcdata/simulation/tat_3_21mer/bdna+bdna/data/roughtrj/1000/bdna+bdna.nopbc.fit.12.1000.xtc /home/ytcdata/simulation/tat_3_21mer/bdna+bdna/data/roughtrj/1000/bdna+bdna.nopbc.fit.13.1000.xtc /home/ytcdata/simulation/tat_3_21mer/bdna+bdna/data/roughtrj/1000/bdna+bdna.nopbc.fit.14.1000.xtc /home/ytcdata/simulation/tat_3_21mer/bdna+bdna/data/roughtrj/1000/bdna+bdna.nopbc.fit.15.1000.xtc /home/ytcdata/simulation/tat_3_21mer/bdna+bdna/data/roughtrj/1000/bdna+bdna.nopbc.fit.16.1000.xtc /home/ytcdata/simulation/tat_3_21mer/bdna+bdna/data/roughtrj/1000/bdna+bdna.nopbc.fit.17.1000.xtc /home/ytcdata/simulation/tat_3_21mer/bdna+bdna/data/roughtrj/1000/bdna+bdna.nopbc.fit.18.1000.xtc /home/ytcdata/simulation/tat_3_21mer/bdna+bdna/data/roughtrj/1000/bdna+bdna.nopbc.fit.19.1000.xtc /home/ytcdata/simulation/tat_3_21mer/bdna+bdna/data/roughtrj/1000/bdna+bdna.nopbc.fit.20.1000.xtc /home/ytcdata/simulation/tat_3_21mer/bdna+bdna/data/roughtrj/1000/bdna+bdna.nopbc.fit.21.1000.xtc /home/ytcdata/simulation/tat_3_21mer/bdna+bdna/data/roughtrj/1000/bdna+bdna.nopbc.fit.22.1000.xtc /home/ytcdata/simulation/tat_3_21mer/bdna+bdna/data/roughtrj/1000/bdna+bdna.nopbc.fit.23.1000.xtc /home/ytcdata/simulation/tat_3_21mer/bdna+bdna/data/roughtrj/1000/bdna+bdna.nopbc.fit.24.1000.xtc /home/ytcdata/simulation/tat_3_21mer/bdna+bdna/data/roughtrj/1000/bdna+bdna.nopbc.fit.25.1000.xtc /home/ytcdata/simulation/tat_3_21mer/bdna+bdna/data/roughtrj/1000/bdna+bdna.nopbc.fit.26.1000.xtc /home/ytcdata/simulation/tat_3_21mer/bdna+bdna/data/roughtrj/1000/bdna+bdna.nopbc.fit.27.1000.xtc /home/ytcdata/simulation/tat_3_21mer/bdna+bdna/data/roughtrj/1000/bdna+bdna.nopbc.fit.28.1000.xtc /home/ytcdata/simulation/tat_3_21mer/bdna+bdna/data/roughtrj/1000/bdna+bdna.nopbc.fit.29.1000.xtc /home/ytcdata/simulation/tat_3_21mer/bdna+bdna/data/roughtrj/1000/bdna+bdna.nopbc.fit.30.1000.xtc /home/ytcdata/simulation/tat_3_21mer/bdna+bdna/data/roughtrj/1000/bdna+bdna.nopbc.fit.31.1000.xtc /home/ytcdata/simulation/tat_3_21mer/bdna+bdna/data/roughtrj/1000/bdna+bdna.nopbc.fit.32.1000.xtc /home/ytcdata/simulation/tat_3_21mer/bdna+bdna/data/roughtrj/1000/bdna+bdna.nopbc.fit.33.1000.xtc /home/ytcdata/simulation/tat_3_21mer/bdna+bdna/data/roughtrj/1000/bdna+bdna.nopbc.fit.34.1000.xtc /home/ytcdata/simulation/tat_3_21mer/bdna+bdna/data/roughtrj/1000/bdna+bdna.nopbc.fit.35.1000.xtc /home/ytcdata/simulation/tat_3_21mer/bdna+bdna/data/roughtrj/1000/bdna+bdna.nopbc.fit.36.1000.xtc /home/ytcdata/simulation/tat_3_21mer/bdna+bdna/data/roughtrj/1000/bdna+bdna.nopbc.fit.37.1000.xtc /home/ytcdata/simulation/tat_3_21mer/bdna+bdna/data/roughtrj/1000/bdna+bdna.nopbc.fit.38.1000.xtc /home/ytcdata/simulation/tat_3_21mer/bdna+bdna/data/roughtrj/1000/bdna+bdna.nopbc.fit.39.1000.xtc /home/ytcdata/simulation/tat_3_21mer/bdna+bdna/data/roughtrj/1000/bdna+bdna.nopbc.fit.40.1000.xtc /home/ytcdata/simulation/tat_3_21mer/bdna+bdna/data/roughtrj/1000/bdna+bdna.nopbc.fit.41.1000.xtc /home/ytcdata/simulation/tat_3_21mer/bdna+bdna/data/roughtrj/1000/bdna+bdna.nopbc.fit.42.1000.xtc /home/ytcdata/simulation/tat_3_21mer/bdna+bdna/data/roughtrj/1000/bdna+bdna.nopbc.fit.43.1000.xtc /home/ytcdata/simulation/tat_3_21mer/bdna+bdna/data/roughtrj/1000/bdna+bdna.nopbc.fit.44.1000.xtc /home/ytcdata/simulation/tat_3_21mer/bdna+bdna/data/roughtrj/1000/bdna+bdna.nopbc.fit.45.1000.xtc /home/ytcdata/simulation/tat_3_21mer/bdna+bdna/data/roughtrj/1000/bdna+bdna.nopbc.fit.46.1000.xtc /home/ytcdata/simulation/tat_3_21mer/bdna+bdna/data/roughtrj/1000/bdna+bdna.nopbc.fit.47.1000.xtc /home/ytcdata/simulation/tat_3_21mer/bdna+bdna/data/roughtrj/1000/bdna+bdna.nopbc.fit.48.1000.xtc /home/ytcdata/simulation/tat_3_21mer/bdna+bdna/data/roughtrj/1000/bdna+bdna.nopbc.fit.49.1000.xtc /home/ytcdata/simulation/tat_3_21mer/bdna+bdna/data/roughtrj/1000/bdna+bdna.nopbc.fit.50.1000.xtc  -o /home/ytcdata/simulation/tat_3_21mer/bdna+bdna/data/roughtrj/1000/bdna+bdna.nopbc.fit.1to50.1000.xtc -dt 100\n"
     ]
    }
   ],
   "source": [
    "process_pbc.concatenate_trajectory(gmx, system_folder, type_na, start, end)"
   ]
  },
  {
   "cell_type": "code",
   "execution_count": 35,
   "metadata": {},
   "outputs": [
    {
     "name": "stdout",
     "output_type": "stream",
     "text": [
      "vmd -gro /home/ytcdata/simulation/tat_3_21mer/bdna+bdna/data/gro/bdna+bdna.npt4.fit.gro /home/ytcdata/simulation/tat_3_21mer/bdna+bdna/data/roughtrj/1000/bdna+bdna.nopbc.fit.1to50.1000.xtc\n"
     ]
    }
   ],
   "source": [
    "refgro = path.join(system_folder, 'data', 'gro', f'{type_na}.npt4.fit.gro')\n",
    "outxtc = path.join(system_folder, 'data', 'roughtrj', '1000', f'{type_na}.nopbc.fit.{start+1}to{end+1}.1000.xtc')\n",
    "print(f'vmd -gro {refgro} {outxtc}')"
   ]
  },
  {
   "cell_type": "markdown",
   "metadata": {},
   "source": [
    "### Reload Function"
   ]
  },
  {
   "cell_type": "code",
   "execution_count": 42,
   "metadata": {},
   "outputs": [
    {
     "data": {
      "text/plain": [
       "<module 'process_pbc' from '/home/yizaochen/codes/simulation_scripts/process_pbc.py'>"
      ]
     },
     "execution_count": 42,
     "metadata": {},
     "output_type": "execute_result"
    }
   ],
   "source": [
    "from imp import reload\n",
    "reload(process_pbc)"
   ]
  },
  {
   "cell_type": "code",
   "execution_count": null,
   "metadata": {},
   "outputs": [],
   "source": []
  }
 ],
 "metadata": {
  "kernelspec": {
   "display_name": "Python 3",
   "language": "python",
   "name": "python3"
  },
  "language_info": {
   "codemirror_mode": {
    "name": "ipython",
    "version": 3
   },
   "file_extension": ".py",
   "mimetype": "text/x-python",
   "name": "python",
   "nbconvert_exporter": "python",
   "pygments_lexer": "ipython3",
   "version": "3.8.5"
  }
 },
 "nbformat": 4,
 "nbformat_minor": 4
}
